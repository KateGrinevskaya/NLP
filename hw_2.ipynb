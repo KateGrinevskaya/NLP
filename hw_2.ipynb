{
  "nbformat": 4,
  "nbformat_minor": 0,
  "metadata": {
    "colab": {
      "name": "hw_2.ipynb",
      "provenance": [],
      "collapsed_sections": [],
      "toc_visible": true
    },
    "kernelspec": {
      "name": "python3",
      "display_name": "Python 3"
    },
    "language_info": {
      "name": "python"
    },
    "widgets": {
      "application/vnd.jupyter.widget-state+json": {
        "49fb79b8d48242d6b7504075d74a5f53": {
          "model_module": "@jupyter-widgets/controls",
          "model_name": "HBoxModel",
          "model_module_version": "1.5.0",
          "state": {
            "_view_name": "HBoxView",
            "_dom_classes": [],
            "_model_name": "HBoxModel",
            "_view_module": "@jupyter-widgets/controls",
            "_model_module_version": "1.5.0",
            "_view_count": null,
            "_view_module_version": "1.5.0",
            "box_style": "",
            "layout": "IPY_MODEL_db0164d1748c4175aaf6e4ac362e0900",
            "_model_module": "@jupyter-widgets/controls",
            "children": [
              "IPY_MODEL_6969f5e80922432e90b996c5275ef76c",
              "IPY_MODEL_06eb85cf54de42c2a5d44a8409497b8b",
              "IPY_MODEL_fc940bc313ac48619d86ca9078867472"
            ]
          }
        },
        "db0164d1748c4175aaf6e4ac362e0900": {
          "model_module": "@jupyter-widgets/base",
          "model_name": "LayoutModel",
          "model_module_version": "1.2.0",
          "state": {
            "_view_name": "LayoutView",
            "grid_template_rows": null,
            "right": null,
            "justify_content": null,
            "_view_module": "@jupyter-widgets/base",
            "overflow": null,
            "_model_module_version": "1.2.0",
            "_view_count": null,
            "flex_flow": null,
            "width": null,
            "min_width": null,
            "border": null,
            "align_items": null,
            "bottom": null,
            "_model_module": "@jupyter-widgets/base",
            "top": null,
            "grid_column": null,
            "overflow_y": null,
            "overflow_x": null,
            "grid_auto_flow": null,
            "grid_area": null,
            "grid_template_columns": null,
            "flex": null,
            "_model_name": "LayoutModel",
            "justify_items": null,
            "grid_row": null,
            "max_height": null,
            "align_content": null,
            "visibility": null,
            "align_self": null,
            "height": null,
            "min_height": null,
            "padding": null,
            "grid_auto_rows": null,
            "grid_gap": null,
            "max_width": null,
            "order": null,
            "_view_module_version": "1.2.0",
            "grid_template_areas": null,
            "object_position": null,
            "object_fit": null,
            "grid_auto_columns": null,
            "margin": null,
            "display": null,
            "left": null
          }
        },
        "6969f5e80922432e90b996c5275ef76c": {
          "model_module": "@jupyter-widgets/controls",
          "model_name": "HTMLModel",
          "model_module_version": "1.5.0",
          "state": {
            "_view_name": "HTMLView",
            "style": "IPY_MODEL_51d74fc10e6d48ae8aebcc6ddabcf7f3",
            "_dom_classes": [],
            "description": "",
            "_model_name": "HTMLModel",
            "placeholder": "​",
            "_view_module": "@jupyter-widgets/controls",
            "_model_module_version": "1.5.0",
            "value": "",
            "_view_count": null,
            "_view_module_version": "1.5.0",
            "description_tooltip": null,
            "_model_module": "@jupyter-widgets/controls",
            "layout": "IPY_MODEL_20797309e6ba4e0d8fa4e3e2e26c3586"
          }
        },
        "06eb85cf54de42c2a5d44a8409497b8b": {
          "model_module": "@jupyter-widgets/controls",
          "model_name": "FloatProgressModel",
          "model_module_version": "1.5.0",
          "state": {
            "_view_name": "ProgressView",
            "style": "IPY_MODEL_21535e64488f4f2597703546f0cb13e5",
            "_dom_classes": [],
            "description": "",
            "_model_name": "FloatProgressModel",
            "bar_style": "success",
            "max": 1,
            "_view_module": "@jupyter-widgets/controls",
            "_model_module_version": "1.5.0",
            "value": 0,
            "_view_count": null,
            "_view_module_version": "1.5.0",
            "orientation": "horizontal",
            "min": 0,
            "description_tooltip": null,
            "_model_module": "@jupyter-widgets/controls",
            "layout": "IPY_MODEL_8e5194f4eab54c938e113076d7a684ac"
          }
        },
        "fc940bc313ac48619d86ca9078867472": {
          "model_module": "@jupyter-widgets/controls",
          "model_name": "HTMLModel",
          "model_module_version": "1.5.0",
          "state": {
            "_view_name": "HTMLView",
            "style": "IPY_MODEL_1b1950e97e6541f289be6fbbe6576a85",
            "_dom_classes": [],
            "description": "",
            "_model_name": "HTMLModel",
            "placeholder": "​",
            "_view_module": "@jupyter-widgets/controls",
            "_model_module_version": "1.5.0",
            "value": " 0/? [00:04&lt;?, ?it/s]",
            "_view_count": null,
            "_view_module_version": "1.5.0",
            "description_tooltip": null,
            "_model_module": "@jupyter-widgets/controls",
            "layout": "IPY_MODEL_949223440a8b467da7d388529fd80033"
          }
        },
        "51d74fc10e6d48ae8aebcc6ddabcf7f3": {
          "model_module": "@jupyter-widgets/controls",
          "model_name": "DescriptionStyleModel",
          "model_module_version": "1.5.0",
          "state": {
            "_view_name": "StyleView",
            "_model_name": "DescriptionStyleModel",
            "description_width": "",
            "_view_module": "@jupyter-widgets/base",
            "_model_module_version": "1.5.0",
            "_view_count": null,
            "_view_module_version": "1.2.0",
            "_model_module": "@jupyter-widgets/controls"
          }
        },
        "20797309e6ba4e0d8fa4e3e2e26c3586": {
          "model_module": "@jupyter-widgets/base",
          "model_name": "LayoutModel",
          "model_module_version": "1.2.0",
          "state": {
            "_view_name": "LayoutView",
            "grid_template_rows": null,
            "right": null,
            "justify_content": null,
            "_view_module": "@jupyter-widgets/base",
            "overflow": null,
            "_model_module_version": "1.2.0",
            "_view_count": null,
            "flex_flow": null,
            "width": null,
            "min_width": null,
            "border": null,
            "align_items": null,
            "bottom": null,
            "_model_module": "@jupyter-widgets/base",
            "top": null,
            "grid_column": null,
            "overflow_y": null,
            "overflow_x": null,
            "grid_auto_flow": null,
            "grid_area": null,
            "grid_template_columns": null,
            "flex": null,
            "_model_name": "LayoutModel",
            "justify_items": null,
            "grid_row": null,
            "max_height": null,
            "align_content": null,
            "visibility": null,
            "align_self": null,
            "height": null,
            "min_height": null,
            "padding": null,
            "grid_auto_rows": null,
            "grid_gap": null,
            "max_width": null,
            "order": null,
            "_view_module_version": "1.2.0",
            "grid_template_areas": null,
            "object_position": null,
            "object_fit": null,
            "grid_auto_columns": null,
            "margin": null,
            "display": null,
            "left": null
          }
        },
        "21535e64488f4f2597703546f0cb13e5": {
          "model_module": "@jupyter-widgets/controls",
          "model_name": "ProgressStyleModel",
          "model_module_version": "1.5.0",
          "state": {
            "_view_name": "StyleView",
            "_model_name": "ProgressStyleModel",
            "description_width": "",
            "_view_module": "@jupyter-widgets/base",
            "_model_module_version": "1.5.0",
            "_view_count": null,
            "_view_module_version": "1.2.0",
            "bar_color": null,
            "_model_module": "@jupyter-widgets/controls"
          }
        },
        "8e5194f4eab54c938e113076d7a684ac": {
          "model_module": "@jupyter-widgets/base",
          "model_name": "LayoutModel",
          "model_module_version": "1.2.0",
          "state": {
            "_view_name": "LayoutView",
            "grid_template_rows": null,
            "right": null,
            "justify_content": null,
            "_view_module": "@jupyter-widgets/base",
            "overflow": null,
            "_model_module_version": "1.2.0",
            "_view_count": null,
            "flex_flow": null,
            "width": "20px",
            "min_width": null,
            "border": null,
            "align_items": null,
            "bottom": null,
            "_model_module": "@jupyter-widgets/base",
            "top": null,
            "grid_column": null,
            "overflow_y": null,
            "overflow_x": null,
            "grid_auto_flow": null,
            "grid_area": null,
            "grid_template_columns": null,
            "flex": null,
            "_model_name": "LayoutModel",
            "justify_items": null,
            "grid_row": null,
            "max_height": null,
            "align_content": null,
            "visibility": null,
            "align_self": null,
            "height": null,
            "min_height": null,
            "padding": null,
            "grid_auto_rows": null,
            "grid_gap": null,
            "max_width": null,
            "order": null,
            "_view_module_version": "1.2.0",
            "grid_template_areas": null,
            "object_position": null,
            "object_fit": null,
            "grid_auto_columns": null,
            "margin": null,
            "display": null,
            "left": null
          }
        },
        "1b1950e97e6541f289be6fbbe6576a85": {
          "model_module": "@jupyter-widgets/controls",
          "model_name": "DescriptionStyleModel",
          "model_module_version": "1.5.0",
          "state": {
            "_view_name": "StyleView",
            "_model_name": "DescriptionStyleModel",
            "description_width": "",
            "_view_module": "@jupyter-widgets/base",
            "_model_module_version": "1.5.0",
            "_view_count": null,
            "_view_module_version": "1.2.0",
            "_model_module": "@jupyter-widgets/controls"
          }
        },
        "949223440a8b467da7d388529fd80033": {
          "model_module": "@jupyter-widgets/base",
          "model_name": "LayoutModel",
          "model_module_version": "1.2.0",
          "state": {
            "_view_name": "LayoutView",
            "grid_template_rows": null,
            "right": null,
            "justify_content": null,
            "_view_module": "@jupyter-widgets/base",
            "overflow": null,
            "_model_module_version": "1.2.0",
            "_view_count": null,
            "flex_flow": null,
            "width": null,
            "min_width": null,
            "border": null,
            "align_items": null,
            "bottom": null,
            "_model_module": "@jupyter-widgets/base",
            "top": null,
            "grid_column": null,
            "overflow_y": null,
            "overflow_x": null,
            "grid_auto_flow": null,
            "grid_area": null,
            "grid_template_columns": null,
            "flex": null,
            "_model_name": "LayoutModel",
            "justify_items": null,
            "grid_row": null,
            "max_height": null,
            "align_content": null,
            "visibility": null,
            "align_self": null,
            "height": null,
            "min_height": null,
            "padding": null,
            "grid_auto_rows": null,
            "grid_gap": null,
            "max_width": null,
            "order": null,
            "_view_module_version": "1.2.0",
            "grid_template_areas": null,
            "object_position": null,
            "object_fit": null,
            "grid_auto_columns": null,
            "margin": null,
            "display": null,
            "left": null
          }
        },
        "e7e6a3a312744d97a3de248a6fc80d02": {
          "model_module": "@jupyter-widgets/controls",
          "model_name": "HBoxModel",
          "model_module_version": "1.5.0",
          "state": {
            "_view_name": "HBoxView",
            "_dom_classes": [],
            "_model_name": "HBoxModel",
            "_view_module": "@jupyter-widgets/controls",
            "_model_module_version": "1.5.0",
            "_view_count": null,
            "_view_module_version": "1.5.0",
            "box_style": "",
            "layout": "IPY_MODEL_cee5968bd1ca4a88897f57a209946732",
            "_model_module": "@jupyter-widgets/controls",
            "children": [
              "IPY_MODEL_88fade75d0104f7599ebe2957677292f",
              "IPY_MODEL_cef27114eea14e85a78578679c87b651",
              "IPY_MODEL_bee2b8d220b04c0e9be6642babcd1796"
            ]
          }
        },
        "cee5968bd1ca4a88897f57a209946732": {
          "model_module": "@jupyter-widgets/base",
          "model_name": "LayoutModel",
          "model_module_version": "1.2.0",
          "state": {
            "_view_name": "LayoutView",
            "grid_template_rows": null,
            "right": null,
            "justify_content": null,
            "_view_module": "@jupyter-widgets/base",
            "overflow": null,
            "_model_module_version": "1.2.0",
            "_view_count": null,
            "flex_flow": null,
            "width": null,
            "min_width": null,
            "border": null,
            "align_items": null,
            "bottom": null,
            "_model_module": "@jupyter-widgets/base",
            "top": null,
            "grid_column": null,
            "overflow_y": null,
            "overflow_x": null,
            "grid_auto_flow": null,
            "grid_area": null,
            "grid_template_columns": null,
            "flex": null,
            "_model_name": "LayoutModel",
            "justify_items": null,
            "grid_row": null,
            "max_height": null,
            "align_content": null,
            "visibility": null,
            "align_self": null,
            "height": null,
            "min_height": null,
            "padding": null,
            "grid_auto_rows": null,
            "grid_gap": null,
            "max_width": null,
            "order": null,
            "_view_module_version": "1.2.0",
            "grid_template_areas": null,
            "object_position": null,
            "object_fit": null,
            "grid_auto_columns": null,
            "margin": null,
            "display": null,
            "left": null
          }
        },
        "88fade75d0104f7599ebe2957677292f": {
          "model_module": "@jupyter-widgets/controls",
          "model_name": "HTMLModel",
          "model_module_version": "1.5.0",
          "state": {
            "_view_name": "HTMLView",
            "style": "IPY_MODEL_fbe8d0f24c59467b96787f27ac1463ad",
            "_dom_classes": [],
            "description": "",
            "_model_name": "HTMLModel",
            "placeholder": "​",
            "_view_module": "@jupyter-widgets/controls",
            "_model_module_version": "1.5.0",
            "value": "100%",
            "_view_count": null,
            "_view_module_version": "1.5.0",
            "description_tooltip": null,
            "_model_module": "@jupyter-widgets/controls",
            "layout": "IPY_MODEL_93bd34bcfcb94ab9ab2606d55b04f0a2"
          }
        },
        "cef27114eea14e85a78578679c87b651": {
          "model_module": "@jupyter-widgets/controls",
          "model_name": "FloatProgressModel",
          "model_module_version": "1.5.0",
          "state": {
            "_view_name": "ProgressView",
            "style": "IPY_MODEL_b0532b7757eb436a8962f61cf880f766",
            "_dom_classes": [],
            "description": "",
            "_model_name": "FloatProgressModel",
            "bar_style": "success",
            "max": 350000,
            "_view_module": "@jupyter-widgets/controls",
            "_model_module_version": "1.5.0",
            "value": 350000,
            "_view_count": null,
            "_view_module_version": "1.5.0",
            "orientation": "horizontal",
            "min": 0,
            "description_tooltip": null,
            "_model_module": "@jupyter-widgets/controls",
            "layout": "IPY_MODEL_ac0f220dddb0490dbfdfd94d0172a937"
          }
        },
        "bee2b8d220b04c0e9be6642babcd1796": {
          "model_module": "@jupyter-widgets/controls",
          "model_name": "HTMLModel",
          "model_module_version": "1.5.0",
          "state": {
            "_view_name": "HTMLView",
            "style": "IPY_MODEL_3c4a0bcd8002426db9cd4d17bf962cd1",
            "_dom_classes": [],
            "description": "",
            "_model_name": "HTMLModel",
            "placeholder": "​",
            "_view_module": "@jupyter-widgets/controls",
            "_model_module_version": "1.5.0",
            "value": " 350000/350000 [04:11&lt;00:00, 1436.86it/s]",
            "_view_count": null,
            "_view_module_version": "1.5.0",
            "description_tooltip": null,
            "_model_module": "@jupyter-widgets/controls",
            "layout": "IPY_MODEL_edd1d230e53e490fbf88e14841438768"
          }
        },
        "fbe8d0f24c59467b96787f27ac1463ad": {
          "model_module": "@jupyter-widgets/controls",
          "model_name": "DescriptionStyleModel",
          "model_module_version": "1.5.0",
          "state": {
            "_view_name": "StyleView",
            "_model_name": "DescriptionStyleModel",
            "description_width": "",
            "_view_module": "@jupyter-widgets/base",
            "_model_module_version": "1.5.0",
            "_view_count": null,
            "_view_module_version": "1.2.0",
            "_model_module": "@jupyter-widgets/controls"
          }
        },
        "93bd34bcfcb94ab9ab2606d55b04f0a2": {
          "model_module": "@jupyter-widgets/base",
          "model_name": "LayoutModel",
          "model_module_version": "1.2.0",
          "state": {
            "_view_name": "LayoutView",
            "grid_template_rows": null,
            "right": null,
            "justify_content": null,
            "_view_module": "@jupyter-widgets/base",
            "overflow": null,
            "_model_module_version": "1.2.0",
            "_view_count": null,
            "flex_flow": null,
            "width": null,
            "min_width": null,
            "border": null,
            "align_items": null,
            "bottom": null,
            "_model_module": "@jupyter-widgets/base",
            "top": null,
            "grid_column": null,
            "overflow_y": null,
            "overflow_x": null,
            "grid_auto_flow": null,
            "grid_area": null,
            "grid_template_columns": null,
            "flex": null,
            "_model_name": "LayoutModel",
            "justify_items": null,
            "grid_row": null,
            "max_height": null,
            "align_content": null,
            "visibility": null,
            "align_self": null,
            "height": null,
            "min_height": null,
            "padding": null,
            "grid_auto_rows": null,
            "grid_gap": null,
            "max_width": null,
            "order": null,
            "_view_module_version": "1.2.0",
            "grid_template_areas": null,
            "object_position": null,
            "object_fit": null,
            "grid_auto_columns": null,
            "margin": null,
            "display": null,
            "left": null
          }
        },
        "b0532b7757eb436a8962f61cf880f766": {
          "model_module": "@jupyter-widgets/controls",
          "model_name": "ProgressStyleModel",
          "model_module_version": "1.5.0",
          "state": {
            "_view_name": "StyleView",
            "_model_name": "ProgressStyleModel",
            "description_width": "",
            "_view_module": "@jupyter-widgets/base",
            "_model_module_version": "1.5.0",
            "_view_count": null,
            "_view_module_version": "1.2.0",
            "bar_color": null,
            "_model_module": "@jupyter-widgets/controls"
          }
        },
        "ac0f220dddb0490dbfdfd94d0172a937": {
          "model_module": "@jupyter-widgets/base",
          "model_name": "LayoutModel",
          "model_module_version": "1.2.0",
          "state": {
            "_view_name": "LayoutView",
            "grid_template_rows": null,
            "right": null,
            "justify_content": null,
            "_view_module": "@jupyter-widgets/base",
            "overflow": null,
            "_model_module_version": "1.2.0",
            "_view_count": null,
            "flex_flow": null,
            "width": null,
            "min_width": null,
            "border": null,
            "align_items": null,
            "bottom": null,
            "_model_module": "@jupyter-widgets/base",
            "top": null,
            "grid_column": null,
            "overflow_y": null,
            "overflow_x": null,
            "grid_auto_flow": null,
            "grid_area": null,
            "grid_template_columns": null,
            "flex": null,
            "_model_name": "LayoutModel",
            "justify_items": null,
            "grid_row": null,
            "max_height": null,
            "align_content": null,
            "visibility": null,
            "align_self": null,
            "height": null,
            "min_height": null,
            "padding": null,
            "grid_auto_rows": null,
            "grid_gap": null,
            "max_width": null,
            "order": null,
            "_view_module_version": "1.2.0",
            "grid_template_areas": null,
            "object_position": null,
            "object_fit": null,
            "grid_auto_columns": null,
            "margin": null,
            "display": null,
            "left": null
          }
        },
        "3c4a0bcd8002426db9cd4d17bf962cd1": {
          "model_module": "@jupyter-widgets/controls",
          "model_name": "DescriptionStyleModel",
          "model_module_version": "1.5.0",
          "state": {
            "_view_name": "StyleView",
            "_model_name": "DescriptionStyleModel",
            "description_width": "",
            "_view_module": "@jupyter-widgets/base",
            "_model_module_version": "1.5.0",
            "_view_count": null,
            "_view_module_version": "1.2.0",
            "_model_module": "@jupyter-widgets/controls"
          }
        },
        "edd1d230e53e490fbf88e14841438768": {
          "model_module": "@jupyter-widgets/base",
          "model_name": "LayoutModel",
          "model_module_version": "1.2.0",
          "state": {
            "_view_name": "LayoutView",
            "grid_template_rows": null,
            "right": null,
            "justify_content": null,
            "_view_module": "@jupyter-widgets/base",
            "overflow": null,
            "_model_module_version": "1.2.0",
            "_view_count": null,
            "flex_flow": null,
            "width": null,
            "min_width": null,
            "border": null,
            "align_items": null,
            "bottom": null,
            "_model_module": "@jupyter-widgets/base",
            "top": null,
            "grid_column": null,
            "overflow_y": null,
            "overflow_x": null,
            "grid_auto_flow": null,
            "grid_area": null,
            "grid_template_columns": null,
            "flex": null,
            "_model_name": "LayoutModel",
            "justify_items": null,
            "grid_row": null,
            "max_height": null,
            "align_content": null,
            "visibility": null,
            "align_self": null,
            "height": null,
            "min_height": null,
            "padding": null,
            "grid_auto_rows": null,
            "grid_gap": null,
            "max_width": null,
            "order": null,
            "_view_module_version": "1.2.0",
            "grid_template_areas": null,
            "object_position": null,
            "object_fit": null,
            "grid_auto_columns": null,
            "margin": null,
            "display": null,
            "left": null
          }
        }
      }
    }
  },
  "cells": [
    {
      "cell_type": "markdown",
      "metadata": {
        "id": "y4tpbbTFpJW2"
      },
      "source": [
        "# Домашнее задание 2."
      ]
    },
    {
      "cell_type": "markdown",
      "metadata": {
        "id": "Ps9j1363pNIm"
      },
      "source": [
        "### Гриневская Катя, БКЛ182"
      ]
    },
    {
      "cell_type": "markdown",
      "metadata": {
        "id": "EgVvRI8spRcl"
      },
      "source": [
        "#### Загрузка данных\n"
      ]
    },
    {
      "cell_type": "markdown",
      "metadata": {
        "id": "9MMA6Fk1pWfI"
      },
      "source": [
        "Импорты"
      ]
    },
    {
      "cell_type": "code",
      "metadata": {
        "id": "nvDiT71N3CCC",
        "colab": {
          "base_uri": "https://localhost:8080/",
          "height": 198
        },
        "outputId": "8a7f9d2e-caf0-4ffb-b811-8cfdebb9d51f"
      },
      "source": [
        "import pandas as pd\n",
        "import gzip\n",
        "import json\n",
        "from tqdm.auto import tqdm\n",
        "import nltk\n",
        "nltk.download('wordnet')\n",
        "from nltk.corpus import wordnet as wn\n",
        "from nltk.tokenize import word_tokenize\n",
        "from nltk.util import ngrams\n",
        "nltk.download('punkt')\n",
        "nltk.download('averaged_perceptron_tagger')\n",
        "nltk.download(\"stopwords\")\n",
        "from nltk.corpus import stopwords\n",
        "russian_stopwords = stopwords.words(\"english\")\n",
        "from nltk.stem.wordnet import WordNetLemmatizer\n",
        "lemmatizer = WordNetLemmatizer()\n",
        "import spacy\n",
        "nlp = spacy.load(\"en_core_web_sm\")\n",
        "from collections import Counter\n",
        "import gensim\n",
        "from string import punctuation"
      ],
      "execution_count": 4,
      "outputs": [
        {
          "output_type": "stream",
          "name": "stdout",
          "text": [
            "[nltk_data] Downloading package wordnet to /root/nltk_data...\n",
            "[nltk_data]   Package wordnet is already up-to-date!\n",
            "[nltk_data] Downloading package punkt to /root/nltk_data...\n",
            "[nltk_data]   Package punkt is already up-to-date!\n",
            "[nltk_data] Downloading package averaged_perceptron_tagger to\n",
            "[nltk_data]     /root/nltk_data...\n",
            "[nltk_data]   Package averaged_perceptron_tagger is already up-to-\n",
            "[nltk_data]       date!\n",
            "[nltk_data] Downloading package stopwords to /root/nltk_data...\n",
            "[nltk_data]   Package stopwords is already up-to-date!\n"
          ]
        }
      ]
    },
    {
      "cell_type": "markdown",
      "metadata": {
        "id": "8D2zRv4wpXpP"
      },
      "source": [
        "Я выбрала отзывы о товарых для животных, причём у каждого товара/пользователя есть минимум 5 отзывов."
      ]
    },
    {
      "cell_type": "code",
      "metadata": {
        "colab": {
          "base_uri": "https://localhost:8080/"
        },
        "id": "pFSeXkE73Tlc",
        "outputId": "67c4a7bb-262b-4ff7-c18a-bb3439d67956"
      },
      "source": [
        "! wget http://deepyeti.ucsd.edu/jianmo/amazon/categoryFilesSmall/Pet_Supplies_5.json.gz"
      ],
      "execution_count": null,
      "outputs": [
        {
          "output_type": "stream",
          "name": "stdout",
          "text": [
            "--2021-12-04 11:24:09--  http://deepyeti.ucsd.edu/jianmo/amazon/categoryFilesSmall/Pet_Supplies_5.json.gz\n",
            "Resolving deepyeti.ucsd.edu (deepyeti.ucsd.edu)... 169.228.63.50\n",
            "Connecting to deepyeti.ucsd.edu (deepyeti.ucsd.edu)|169.228.63.50|:80... connected.\n",
            "HTTP request sent, awaiting response... 200 OK\n",
            "Length: 306131006 (292M) [application/octet-stream]\n",
            "Saving to: ‘Pet_Supplies_5.json.gz.1’\n",
            "\n",
            "Pet_Supplies_5.json 100%[===================>] 291.95M  20.7MB/s    in 15s     \n",
            "\n",
            "2021-12-04 11:24:24 (19.8 MB/s) - ‘Pet_Supplies_5.json.gz.1’ saved [306131006/306131006]\n",
            "\n"
          ]
        }
      ]
    },
    {
      "cell_type": "code",
      "metadata": {
        "id": "SoSccoxiFI8w"
      },
      "source": [
        "def parse(path):\n",
        "  g = gzip.open(path, 'rb')\n",
        "  for l in g:\n",
        "    yield json.loads(l)\n",
        "\n",
        "def getDF(path):\n",
        "  i = 0\n",
        "  df = {}\n",
        "  for d in parse(path):\n",
        "    df[i] = d\n",
        "    i += 1\n",
        "  return pd.DataFrame.from_dict(df, orient='index')\n",
        "\n",
        "df = getDF('Pet_Supplies_5.json.gz')"
      ],
      "execution_count": null,
      "outputs": []
    },
    {
      "cell_type": "code",
      "metadata": {
        "colab": {
          "base_uri": "https://localhost:8080/",
          "height": 1000
        },
        "id": "k3q8fobqofz-",
        "outputId": "a61f54ad-84dd-460a-97ed-8fefa17fa0fd"
      },
      "source": [
        "df[550:570]"
      ],
      "execution_count": null,
      "outputs": [
        {
          "output_type": "execute_result",
          "data": {
            "text/html": [
              "<div>\n",
              "<style scoped>\n",
              "    .dataframe tbody tr th:only-of-type {\n",
              "        vertical-align: middle;\n",
              "    }\n",
              "\n",
              "    .dataframe tbody tr th {\n",
              "        vertical-align: top;\n",
              "    }\n",
              "\n",
              "    .dataframe thead th {\n",
              "        text-align: right;\n",
              "    }\n",
              "</style>\n",
              "<table border=\"1\" class=\"dataframe\">\n",
              "  <thead>\n",
              "    <tr style=\"text-align: right;\">\n",
              "      <th></th>\n",
              "      <th>overall</th>\n",
              "      <th>vote</th>\n",
              "      <th>verified</th>\n",
              "      <th>reviewTime</th>\n",
              "      <th>reviewerID</th>\n",
              "      <th>asin</th>\n",
              "      <th>reviewerName</th>\n",
              "      <th>reviewText</th>\n",
              "      <th>summary</th>\n",
              "      <th>unixReviewTime</th>\n",
              "      <th>style</th>\n",
              "      <th>image</th>\n",
              "    </tr>\n",
              "  </thead>\n",
              "  <tbody>\n",
              "    <tr>\n",
              "      <th>550</th>\n",
              "      <td>5.0</td>\n",
              "      <td>NaN</td>\n",
              "      <td>True</td>\n",
              "      <td>06 17, 2016</td>\n",
              "      <td>A23A3FWNF2XFV0</td>\n",
              "      <td>7310172001</td>\n",
              "      <td>Amazon Customer</td>\n",
              "      <td>dogs love it</td>\n",
              "      <td>Five Stars</td>\n",
              "      <td>1466121600</td>\n",
              "      <td>NaN</td>\n",
              "      <td>NaN</td>\n",
              "    </tr>\n",
              "    <tr>\n",
              "      <th>551</th>\n",
              "      <td>5.0</td>\n",
              "      <td>NaN</td>\n",
              "      <td>True</td>\n",
              "      <td>05 28, 2016</td>\n",
              "      <td>AAQF1FIR68QBY</td>\n",
              "      <td>7310172001</td>\n",
              "      <td>Carol A. P.</td>\n",
              "      <td>My dog goes crazy for these!  He absolutely lo...</td>\n",
              "      <td>My dog begs for these!!</td>\n",
              "      <td>1464393600</td>\n",
              "      <td>NaN</td>\n",
              "      <td>NaN</td>\n",
              "    </tr>\n",
              "    <tr>\n",
              "      <th>552</th>\n",
              "      <td>5.0</td>\n",
              "      <td>2</td>\n",
              "      <td>True</td>\n",
              "      <td>03 7, 2016</td>\n",
              "      <td>AGDP18EW9AE37</td>\n",
              "      <td>7310172001</td>\n",
              "      <td>D. Owen</td>\n",
              "      <td>The dogs say thanks for the quick delivery. I ...</td>\n",
              "      <td>Dogs love the liver.</td>\n",
              "      <td>1457308800</td>\n",
              "      <td>NaN</td>\n",
              "      <td>NaN</td>\n",
              "    </tr>\n",
              "    <tr>\n",
              "      <th>553</th>\n",
              "      <td>4.0</td>\n",
              "      <td>NaN</td>\n",
              "      <td>True</td>\n",
              "      <td>02 28, 2016</td>\n",
              "      <td>AVEND03HPIQT1</td>\n",
              "      <td>7310172001</td>\n",
              "      <td>Lenna</td>\n",
              "      <td>This tub was ridiculously difficult to open - ...</td>\n",
              "      <td>Pup seems to like, but we're not thrilled</td>\n",
              "      <td>1456617600</td>\n",
              "      <td>NaN</td>\n",
              "      <td>NaN</td>\n",
              "    </tr>\n",
              "    <tr>\n",
              "      <th>554</th>\n",
              "      <td>5.0</td>\n",
              "      <td>NaN</td>\n",
              "      <td>True</td>\n",
              "      <td>01 4, 2016</td>\n",
              "      <td>A1PMBAR3B8JTTY</td>\n",
              "      <td>7310172001</td>\n",
              "      <td>Moms Amazon</td>\n",
              "      <td>My dog loves these</td>\n",
              "      <td>Five Stars</td>\n",
              "      <td>1451865600</td>\n",
              "      <td>NaN</td>\n",
              "      <td>NaN</td>\n",
              "    </tr>\n",
              "    <tr>\n",
              "      <th>555</th>\n",
              "      <td>4.0</td>\n",
              "      <td>NaN</td>\n",
              "      <td>True</td>\n",
              "      <td>09 23, 2015</td>\n",
              "      <td>A1AC8DR6J95DO0</td>\n",
              "      <td>7310172001</td>\n",
              "      <td>Kindle Customer</td>\n",
              "      <td>My dog (maltese) loves them.  I do not buy the...</td>\n",
              "      <td>a little too pricey</td>\n",
              "      <td>1442966400</td>\n",
              "      <td>NaN</td>\n",
              "      <td>NaN</td>\n",
              "    </tr>\n",
              "    <tr>\n",
              "      <th>556</th>\n",
              "      <td>4.0</td>\n",
              "      <td>NaN</td>\n",
              "      <td>True</td>\n",
              "      <td>06 14, 2015</td>\n",
              "      <td>A3A968FR6DBV1P</td>\n",
              "      <td>7310172001</td>\n",
              "      <td>Douglas Lambert</td>\n",
              "      <td>Foxy the Pomeranian says this is one of her fa...</td>\n",
              "      <td>Great treat for your pet</td>\n",
              "      <td>1434240000</td>\n",
              "      <td>NaN</td>\n",
              "      <td>NaN</td>\n",
              "    </tr>\n",
              "    <tr>\n",
              "      <th>557</th>\n",
              "      <td>4.0</td>\n",
              "      <td>NaN</td>\n",
              "      <td>True</td>\n",
              "      <td>03 18, 2015</td>\n",
              "      <td>A1QPXODP6YNNF8</td>\n",
              "      <td>8029311600</td>\n",
              "      <td>Colorado Girl</td>\n",
              "      <td>This seems to be working on both my dogs teeth...</td>\n",
              "      <td>Seems to be doing the job</td>\n",
              "      <td>1426636800</td>\n",
              "      <td>NaN</td>\n",
              "      <td>NaN</td>\n",
              "    </tr>\n",
              "    <tr>\n",
              "      <th>558</th>\n",
              "      <td>2.0</td>\n",
              "      <td>NaN</td>\n",
              "      <td>False</td>\n",
              "      <td>06 5, 2014</td>\n",
              "      <td>A1EKPNO3QI2Y3F</td>\n",
              "      <td>8029311600</td>\n",
              "      <td>Georgie</td>\n",
              "      <td>and has quit a lot of plaque on her teeth.  I ...</td>\n",
              "      <td>My dog has been on this for many months..........</td>\n",
              "      <td>1401926400</td>\n",
              "      <td>NaN</td>\n",
              "      <td>NaN</td>\n",
              "    </tr>\n",
              "    <tr>\n",
              "      <th>559</th>\n",
              "      <td>5.0</td>\n",
              "      <td>NaN</td>\n",
              "      <td>True</td>\n",
              "      <td>01 8, 2013</td>\n",
              "      <td>A2UUXCSS3JLL6C</td>\n",
              "      <td>8029311600</td>\n",
              "      <td>MARIA FATA</td>\n",
              "      <td>We mix this with our dog's drinking water.  It...</td>\n",
              "      <td>Great way to keep teeth healthy!</td>\n",
              "      <td>1357603200</td>\n",
              "      <td>NaN</td>\n",
              "      <td>NaN</td>\n",
              "    </tr>\n",
              "    <tr>\n",
              "      <th>560</th>\n",
              "      <td>5.0</td>\n",
              "      <td>2</td>\n",
              "      <td>True</td>\n",
              "      <td>01 29, 2016</td>\n",
              "      <td>A24WUDGX13FPJ6</td>\n",
              "      <td>9579882983</td>\n",
              "      <td>Amazon Customer</td>\n",
              "      <td>The java moss came in on time and was very gre...</td>\n",
              "      <td>Bright green better than the pictures</td>\n",
              "      <td>1454025600</td>\n",
              "      <td>NaN</td>\n",
              "      <td>NaN</td>\n",
              "    </tr>\n",
              "    <tr>\n",
              "      <th>561</th>\n",
              "      <td>5.0</td>\n",
              "      <td>NaN</td>\n",
              "      <td>True</td>\n",
              "      <td>11 28, 2013</td>\n",
              "      <td>A144ZQ2QGK1JIS</td>\n",
              "      <td>9822497938</td>\n",
              "      <td>Nana Jana</td>\n",
              "      <td>My Macaw now has a perch she can sit and chew ...</td>\n",
              "      <td>Great for chewing</td>\n",
              "      <td>1385596800</td>\n",
              "      <td>{'Size:': ' X Large'}</td>\n",
              "      <td>NaN</td>\n",
              "    </tr>\n",
              "    <tr>\n",
              "      <th>562</th>\n",
              "      <td>5.0</td>\n",
              "      <td>12</td>\n",
              "      <td>True</td>\n",
              "      <td>03 21, 2013</td>\n",
              "      <td>A2O3EXAXAMFKJB</td>\n",
              "      <td>9822497938</td>\n",
              "      <td>Dee Dee</td>\n",
              "      <td>I have 2 small perches for my Green Cheek Conu...</td>\n",
              "      <td>Great perches</td>\n",
              "      <td>1363824000</td>\n",
              "      <td>{'Size:': ' Small'}</td>\n",
              "      <td>[https://images-na.ssl-images-amazon.com/image...</td>\n",
              "    </tr>\n",
              "    <tr>\n",
              "      <th>563</th>\n",
              "      <td>5.0</td>\n",
              "      <td>2</td>\n",
              "      <td>True</td>\n",
              "      <td>02 7, 2013</td>\n",
              "      <td>A3B7H2OTK97ML2</td>\n",
              "      <td>9822497938</td>\n",
              "      <td>April</td>\n",
              "      <td>These perches are exactly what I was expecting...</td>\n",
              "      <td>Fantastic Perches</td>\n",
              "      <td>1360195200</td>\n",
              "      <td>{'Size:': ' Small'}</td>\n",
              "      <td>NaN</td>\n",
              "    </tr>\n",
              "    <tr>\n",
              "      <th>564</th>\n",
              "      <td>5.0</td>\n",
              "      <td>NaN</td>\n",
              "      <td>True</td>\n",
              "      <td>02 4, 2015</td>\n",
              "      <td>A1GXLOLLVKHRHN</td>\n",
              "      <td>9828377306</td>\n",
              "      <td>Zookeepe.r....</td>\n",
              "      <td>Great parrot (cockatoo) toy!  Is holding up be...</td>\n",
              "      <td>Good Parrot Toy -- Nice Change</td>\n",
              "      <td>1423008000</td>\n",
              "      <td>NaN</td>\n",
              "      <td>NaN</td>\n",
              "    </tr>\n",
              "    <tr>\n",
              "      <th>565</th>\n",
              "      <td>3.0</td>\n",
              "      <td>NaN</td>\n",
              "      <td>True</td>\n",
              "      <td>01 29, 2015</td>\n",
              "      <td>A3IB1TL2LPUN4I</td>\n",
              "      <td>9828377306</td>\n",
              "      <td>S. Ortega</td>\n",
              "      <td>Greengo enjoys it. Notice I said enjoys not lo...</td>\n",
              "      <td>My Eclectus enjoys this!</td>\n",
              "      <td>1422489600</td>\n",
              "      <td>NaN</td>\n",
              "      <td>NaN</td>\n",
              "    </tr>\n",
              "    <tr>\n",
              "      <th>566</th>\n",
              "      <td>5.0</td>\n",
              "      <td>NaN</td>\n",
              "      <td>True</td>\n",
              "      <td>12 8, 2014</td>\n",
              "      <td>A2L1JGWNNHJVR3</td>\n",
              "      <td>9828377306</td>\n",
              "      <td>gwynspekes</td>\n",
              "      <td>Thank You!!!  Everything was great....exactly ...</td>\n",
              "      <td>Everything was great..</td>\n",
              "      <td>1417996800</td>\n",
              "      <td>NaN</td>\n",
              "      <td>NaN</td>\n",
              "    </tr>\n",
              "    <tr>\n",
              "      <th>567</th>\n",
              "      <td>5.0</td>\n",
              "      <td>3</td>\n",
              "      <td>True</td>\n",
              "      <td>10 24, 2014</td>\n",
              "      <td>A3IL6NSKSZDH8D</td>\n",
              "      <td>9828377306</td>\n",
              "      <td>merricksmom</td>\n",
              "      <td>My blue front loves this toy.  When I purchase...</td>\n",
              "      <td>Paco loves it!</td>\n",
              "      <td>1414108800</td>\n",
              "      <td>NaN</td>\n",
              "      <td>NaN</td>\n",
              "    </tr>\n",
              "    <tr>\n",
              "      <th>568</th>\n",
              "      <td>5.0</td>\n",
              "      <td>NaN</td>\n",
              "      <td>True</td>\n",
              "      <td>10 23, 2014</td>\n",
              "      <td>A23LTUON8X4G6</td>\n",
              "      <td>9828377306</td>\n",
              "      <td>sliphopper</td>\n",
              "      <td>talk about bells and whistles!</td>\n",
              "      <td>Five Stars</td>\n",
              "      <td>1414022400</td>\n",
              "      <td>NaN</td>\n",
              "      <td>NaN</td>\n",
              "    </tr>\n",
              "    <tr>\n",
              "      <th>569</th>\n",
              "      <td>5.0</td>\n",
              "      <td>2</td>\n",
              "      <td>True</td>\n",
              "      <td>12 6, 2013</td>\n",
              "      <td>A9CNHYCF2R8F2</td>\n",
              "      <td>9828377306</td>\n",
              "      <td>P. Marino</td>\n",
              "      <td>My Macaw  blue &amp; gold loved it. But it only la...</td>\n",
              "      <td>Great toy . Wished would have lasted longer</td>\n",
              "      <td>1386288000</td>\n",
              "      <td>NaN</td>\n",
              "      <td>NaN</td>\n",
              "    </tr>\n",
              "  </tbody>\n",
              "</table>\n",
              "</div>"
            ],
            "text/plain": [
              "     overall  ...                                              image\n",
              "550      5.0  ...                                                NaN\n",
              "551      5.0  ...                                                NaN\n",
              "552      5.0  ...                                                NaN\n",
              "553      4.0  ...                                                NaN\n",
              "554      5.0  ...                                                NaN\n",
              "555      4.0  ...                                                NaN\n",
              "556      4.0  ...                                                NaN\n",
              "557      4.0  ...                                                NaN\n",
              "558      2.0  ...                                                NaN\n",
              "559      5.0  ...                                                NaN\n",
              "560      5.0  ...                                                NaN\n",
              "561      5.0  ...                                                NaN\n",
              "562      5.0  ...  [https://images-na.ssl-images-amazon.com/image...\n",
              "563      5.0  ...                                                NaN\n",
              "564      5.0  ...                                                NaN\n",
              "565      3.0  ...                                                NaN\n",
              "566      5.0  ...                                                NaN\n",
              "567      5.0  ...                                                NaN\n",
              "568      5.0  ...                                                NaN\n",
              "569      5.0  ...                                                NaN\n",
              "\n",
              "[20 rows x 12 columns]"
            ]
          },
          "metadata": {},
          "execution_count": 4
        }
      ]
    },
    {
      "cell_type": "code",
      "metadata": {
        "colab": {
          "base_uri": "https://localhost:8080/",
          "height": 36
        },
        "id": "wALVO7d8r6ti",
        "outputId": "de640ac7-c5d9-473c-9fb8-540c9f3470f1"
      },
      "source": [
        "df['reviewText'][566]"
      ],
      "execution_count": null,
      "outputs": [
        {
          "output_type": "execute_result",
          "data": {
            "application/vnd.google.colaboratory.intrinsic+json": {
              "type": "string"
            },
            "text/plain": [
              "'Thank You!!!  Everything was great....exactly what I ordered.'"
            ]
          },
          "metadata": {},
          "execution_count": 5
        }
      ]
    },
    {
      "cell_type": "code",
      "metadata": {
        "id": "ZE01Lk7nDGAX",
        "colab": {
          "base_uri": "https://localhost:8080/"
        },
        "outputId": "5111aa40-9eb3-46c4-e305-b0bf20189af7"
      },
      "source": [
        "len(df)"
      ],
      "execution_count": null,
      "outputs": [
        {
          "output_type": "execute_result",
          "data": {
            "text/plain": [
              "2098325"
            ]
          },
          "metadata": {},
          "execution_count": 6
        }
      ]
    },
    {
      "cell_type": "markdown",
      "metadata": {
        "id": "kfHrzuVupt9U"
      },
      "source": [
        "### Задание 1.\n",
        "Предложите 3 способа найти упоминания товаров в отзывах. Например, использовать bootstrapping: составить шаблоны вида \"холодильник XXX\", найти все соответствующие n-граммы и выделить из них называние товара. Могут помочь заголовки и дополнительные данные с Amazon (Metadata здесь) Какие данные необходимы для каждого из способов? Какие есть достоинства/недостатки?\n",
        "\n"
      ]
    },
    {
      "cell_type": "markdown",
      "metadata": {
        "id": "L9jHZHyrrGPQ"
      },
      "source": [
        "**1.** Предложенный вариант с bootstrapping-ом, кажется, будет работать плохо. Пользователи редко используют названия товаров в своих отзывов, чаще заменяют название товара местоимениями (*it, this, these*), назвают товар словосочетаниями вроде *this tub, these perches* или же не называют товар совсем, и отзыв представляет из себя что-то похожее на *Thank You!!!  Everything was great....exactly what I ordered.*\n",
        "\n",
        "Итак, **достоинства**: лёгкая реализация, никаких дополнительных данных.\n",
        "\n",
        "**Недостатки**: почти ничего полезного не найдём."
      ]
    },
    {
      "cell_type": "markdown",
      "metadata": {
        "id": "Ys7q2dntszaO"
      },
      "source": [
        "**2.** Можно взять из Metadata названия, и id товаров. Затем сопоставить название товара с отзывом и искать упоминания товара из названия в отзыве. К названию товара можно с помощью WordNet или векторной моели подобрать синонимы и/или гиперонимы и их тоже искать в отзыве.\n",
        "\n",
        "**Дополнительные данные**: Metadata, WordNet и/или векторная модель\n",
        "\n",
        "**Достоинства**: понятная логика, предположительно достанем многие из упоминаемых товаров.\n",
        "\n",
        "**Недостатки**: сложная реализация, WordNet и/или векторная модель могут не помочь."
      ]
    },
    {
      "cell_type": "markdown",
      "metadata": {
        "id": "VhS2iTDzxt3-"
      },
      "source": [
        "**3.** С помощью WordNet и/или векторной модели можно подобрать гипонимы, гиперонимы и синонимы к категории для каждого продукта. Затем эти синонимы искать срели отзывов.\n",
        "\n",
        "**Дополнительные данные**: Metadata, WordNet и/или векторная модель\n",
        "\n",
        "**Достоинства**: понятная логика, предположительно достанем многие из упоминаемых товаров, не очень сложная реализация.\n",
        "\n",
        "**Недостатки**: не понятно, насколько качественные гиперонимы мы получим, и насколько гипотеза об употреблении гиперонимо/гипонимов/синонимов вместо непосредственно названий товаров верна."
      ]
    },
    {
      "cell_type": "markdown",
      "metadata": {
        "id": "mzouemKcp3DU"
      },
      "source": [
        "### Задание 2.\n",
        "Реализуйте один из предложенных вами способов."
      ]
    },
    {
      "cell_type": "markdown",
      "metadata": {
        "id": "KDLpmcp60s6D"
      },
      "source": [
        "Я попробую использовать комбинацию 2 и 3 способов."
      ]
    },
    {
      "cell_type": "markdown",
      "metadata": {
        "id": "xxhxy0oQPrsG"
      },
      "source": [
        "#### Загрузка данных"
      ]
    },
    {
      "cell_type": "code",
      "metadata": {
        "colab": {
          "base_uri": "https://localhost:8080/"
        },
        "id": "31_gApjuP42R",
        "outputId": "01685e5c-d05b-4f8a-d439-42536858e984"
      },
      "source": [
        "! wget http://deepyeti.ucsd.edu/jianmo/amazon/metaFiles2/meta_Pet_Supplies.json.gz"
      ],
      "execution_count": null,
      "outputs": [
        {
          "output_type": "stream",
          "name": "stdout",
          "text": [
            "--2021-12-04 11:25:24--  http://deepyeti.ucsd.edu/jianmo/amazon/metaFiles2/meta_Pet_Supplies.json.gz\n",
            "Resolving deepyeti.ucsd.edu (deepyeti.ucsd.edu)... 169.228.63.50\n",
            "Connecting to deepyeti.ucsd.edu (deepyeti.ucsd.edu)|169.228.63.50|:80... connected.\n",
            "HTTP request sent, awaiting response... 200 OK\n",
            "Length: 284871978 (272M) [application/octet-stream]\n",
            "Saving to: ‘meta_Pet_Supplies.json.gz.1’\n",
            "\n",
            "meta_Pet_Supplies.j 100%[===================>] 271.67M  20.8MB/s    in 14s     \n",
            "\n",
            "2021-12-04 11:25:38 (19.6 MB/s) - ‘meta_Pet_Supplies.json.gz.1’ saved [284871978/284871978]\n",
            "\n"
          ]
        }
      ]
    },
    {
      "cell_type": "code",
      "metadata": {
        "colab": {
          "base_uri": "https://localhost:8080/"
        },
        "id": "RAg_T5GEQsNK",
        "outputId": "d665b0b2-af74-4974-8ce0-2f31780f96ca"
      },
      "source": [
        "df_meta = getDF('meta_Pet_Supplies.json.gz')\n",
        "titles = df_meta['title']\n",
        "titles = titles.tolist()\n",
        "len(titles)"
      ],
      "execution_count": null,
      "outputs": [
        {
          "output_type": "execute_result",
          "data": {
            "text/plain": [
              "205999"
            ]
          },
          "metadata": {},
          "execution_count": 8
        }
      ]
    },
    {
      "cell_type": "code",
      "metadata": {
        "colab": {
          "base_uri": "https://localhost:8080/"
        },
        "id": "msjqmKtPSWEy",
        "outputId": "6cf2e37a-76b4-4633-a0aa-43700b528f36"
      },
      "source": [
        "titles[:20]"
      ],
      "execution_count": null,
      "outputs": [
        {
          "output_type": "execute_result",
          "data": {
            "text/plain": [
              "['DR.REXY Hemp Oil for Dogs and Cats - 100% Organic Food Supplement - Full Spectrum Hemp Extract - Pain Relief for Dogs &amp; Cats, Calming, Stress &amp; Anxiety Support, Wellness, Hip &amp; Joint Health - 250mg',\n",
              " 'Pet Qwerks Treat Cookbook with Cutters',\n",
              " 'The Best of 101 Dog Tricks',\n",
              " 'Lionfishes and Other Scorpionfishes: The Complete Guide to the Successful Care and Breeding of These Spectacular and Popular Marine Fish (Aquarium Success)',\n",
              " 'Pet Media Feathered Phonics The Easy Way To Teach Your Bird To Speak Volume 1: 96 Words and Phrases',\n",
              " 'Theory of Five Book by Melissa Verplank',\n",
              " \"ABC's of Behavior Shaping; Proactive Behavior Management Seminar DVD Set\",\n",
              " 'Giant Clams in the Sea and the Aquarium',\n",
              " 'Simply Charming Circles',\n",
              " 'Piece of Pie A La Mode',\n",
              " 'Pill Wrap Paste - 56 servings',\n",
              " 'Pathway Dog Journal, Capture Your Memories, Pet Health and More',\n",
              " 'Pathway Cat Journal, Capture Your Memories, Pet Health and More',\n",
              " 'Lees Wooden Air Diffuser 2\" Limewood 2/pk',\n",
              " 'Cat Sitter DVD Trilogy - Vol 1, Vol 2 and Vol 3',\n",
              " 'Puppy Booster Herbal Supplement for Dogs',\n",
              " 'Cat Vitamins Kitten Booster Pet Herbal Supplement',\n",
              " 'Nice Coat Chicken Flavor Dog Herbal Supplement By Vetvittles.com',\n",
              " 'Dog Herbal Supplement, Pet Vitamins Allergy X Plus',\n",
              " 'Power - Mune Chicken Flavor Dog Cat Herbal Supplement']"
            ]
          },
          "metadata": {},
          "execution_count": 9
        }
      ]
    },
    {
      "cell_type": "code",
      "metadata": {
        "colab": {
          "base_uri": "https://localhost:8080/",
          "height": 607
        },
        "id": "CIQAZ8GkRm2B",
        "outputId": "473130f5-01e1-4b25-dc33-432adf1c37b2"
      },
      "source": [
        "df_meta.head()"
      ],
      "execution_count": null,
      "outputs": [
        {
          "output_type": "execute_result",
          "data": {
            "text/html": [
              "<div>\n",
              "<style scoped>\n",
              "    .dataframe tbody tr th:only-of-type {\n",
              "        vertical-align: middle;\n",
              "    }\n",
              "\n",
              "    .dataframe tbody tr th {\n",
              "        vertical-align: top;\n",
              "    }\n",
              "\n",
              "    .dataframe thead th {\n",
              "        text-align: right;\n",
              "    }\n",
              "</style>\n",
              "<table border=\"1\" class=\"dataframe\">\n",
              "  <thead>\n",
              "    <tr style=\"text-align: right;\">\n",
              "      <th></th>\n",
              "      <th>category</th>\n",
              "      <th>tech1</th>\n",
              "      <th>description</th>\n",
              "      <th>fit</th>\n",
              "      <th>title</th>\n",
              "      <th>also_buy</th>\n",
              "      <th>tech2</th>\n",
              "      <th>brand</th>\n",
              "      <th>feature</th>\n",
              "      <th>rank</th>\n",
              "      <th>also_view</th>\n",
              "      <th>main_cat</th>\n",
              "      <th>similar_item</th>\n",
              "      <th>date</th>\n",
              "      <th>price</th>\n",
              "      <th>asin</th>\n",
              "      <th>imageURL</th>\n",
              "      <th>imageURLHighRes</th>\n",
              "      <th>details</th>\n",
              "    </tr>\n",
              "  </thead>\n",
              "  <tbody>\n",
              "    <tr>\n",
              "      <th>0</th>\n",
              "      <td>[Pet Supplies, Dogs, Health Supplies, Hip &amp;amp...</td>\n",
              "      <td></td>\n",
              "      <td>[Dr. Rexy hemp oil has powerful anti-inflammat...</td>\n",
              "      <td></td>\n",
              "      <td>DR.REXY Hemp Oil for Dogs and Cats - 100% Orga...</td>\n",
              "      <td>[]</td>\n",
              "      <td></td>\n",
              "      <td>DR.REXY</td>\n",
              "      <td>[Made strictly with organic derived ingredient...</td>\n",
              "      <td>[&gt;#93,463 in Grocery &amp;amp; Gourmet Food (See T...</td>\n",
              "      <td>[]</td>\n",
              "      <td>Amazon Home</td>\n",
              "      <td></td>\n",
              "      <td></td>\n",
              "      <td>$19.90</td>\n",
              "      <td>061539972X</td>\n",
              "      <td>[https://images-na.ssl-images-amazon.com/image...</td>\n",
              "      <td>[https://images-na.ssl-images-amazon.com/image...</td>\n",
              "      <td>NaN</td>\n",
              "    </tr>\n",
              "    <tr>\n",
              "      <th>1</th>\n",
              "      <td>[Pet Supplies, Dogs]</td>\n",
              "      <td></td>\n",
              "      <td>[Know exactly what your dog is eating with 101...</td>\n",
              "      <td></td>\n",
              "      <td>Pet Qwerks Treat Cookbook with Cutters</td>\n",
              "      <td>[]</td>\n",
              "      <td></td>\n",
              "      <td>Pet Qwerks</td>\n",
              "      <td>[Recipe book, Cookie cutters, Indoor/outdoor use]</td>\n",
              "      <td>190,234 in Pet Supplies (</td>\n",
              "      <td>[B075DYQ1PH, 1604334657, 1604336919, 163026043...</td>\n",
              "      <td>Pet Supplies</td>\n",
              "      <td></td>\n",
              "      <td></td>\n",
              "      <td>$7.86</td>\n",
              "      <td>0615553605</td>\n",
              "      <td>[https://images-na.ssl-images-amazon.com/image...</td>\n",
              "      <td>[https://images-na.ssl-images-amazon.com/image...</td>\n",
              "      <td>NaN</td>\n",
              "    </tr>\n",
              "    <tr>\n",
              "      <th>2</th>\n",
              "      <td>[Pet Supplies, Dogs, Food, Dry]</td>\n",
              "      <td></td>\n",
              "      <td>[, , , ]</td>\n",
              "      <td></td>\n",
              "      <td>The Best of 101 Dog Tricks</td>\n",
              "      <td>[0760339740, 1592533256, 1592535305, 159253730...</td>\n",
              "      <td></td>\n",
              "      <td></td>\n",
              "      <td>[]</td>\n",
              "      <td>76,847 in Movies &amp;amp; TV (</td>\n",
              "      <td>[1592533256, 0760339740, 1592537308, 159253530...</td>\n",
              "      <td>Movies &amp;amp; TV</td>\n",
              "      <td></td>\n",
              "      <td></td>\n",
              "      <td></td>\n",
              "      <td>0760339597</td>\n",
              "      <td>[https://images-na.ssl-images-amazon.com/image...</td>\n",
              "      <td>[https://images-na.ssl-images-amazon.com/image...</td>\n",
              "      <td>NaN</td>\n",
              "    </tr>\n",
              "    <tr>\n",
              "      <th>3</th>\n",
              "      <td>[]</td>\n",
              "      <td></td>\n",
              "      <td>[, The venomous but beautiful scorpionfishes a...</td>\n",
              "      <td></td>\n",
              "      <td>Lionfishes and Other Scorpionfishes: The Compl...</td>\n",
              "      <td>[1911142186, 1514291983]</td>\n",
              "      <td></td>\n",
              "      <td>Tfh/Nylabone</td>\n",
              "      <td>[Used Book in Good Condition]</td>\n",
              "      <td>435,039 in Pet Supplies (</td>\n",
              "      <td>[]</td>\n",
              "      <td>Pet Supplies</td>\n",
              "      <td></td>\n",
              "      <td></td>\n",
              "      <td>$24.99</td>\n",
              "      <td>0793816793</td>\n",
              "      <td>[https://images-na.ssl-images-amazon.com/image...</td>\n",
              "      <td>[https://images-na.ssl-images-amazon.com/image...</td>\n",
              "      <td>NaN</td>\n",
              "    </tr>\n",
              "    <tr>\n",
              "      <th>4</th>\n",
              "      <td>[Pet Supplies, Top Selection from AmazonPets]</td>\n",
              "      <td></td>\n",
              "      <td>[Volume 1: 96 Words &amp;amp; Phrases! This is the...</td>\n",
              "      <td></td>\n",
              "      <td>Pet Media Feathered Phonics The Easy Way To Te...</td>\n",
              "      <td>[B0002FP328, B0002FP32S, B0002FP32I, B00CAMARX...</td>\n",
              "      <td></td>\n",
              "      <td>Pet Media</td>\n",
              "      <td>[Award-winning audio CD teaches parrots how to...</td>\n",
              "      <td>52,435 in Pet Supplies (</td>\n",
              "      <td>[B0002FP328, B00CAMARXG, B0002FP32S, B0013L6CA...</td>\n",
              "      <td>Pet Supplies</td>\n",
              "      <td></td>\n",
              "      <td></td>\n",
              "      <td>$6.97</td>\n",
              "      <td>0972585419</td>\n",
              "      <td>[https://images-na.ssl-images-amazon.com/image...</td>\n",
              "      <td>[https://images-na.ssl-images-amazon.com/image...</td>\n",
              "      <td>NaN</td>\n",
              "    </tr>\n",
              "  </tbody>\n",
              "</table>\n",
              "</div>"
            ],
            "text/plain": [
              "                                            category  ... details\n",
              "0  [Pet Supplies, Dogs, Health Supplies, Hip &amp...  ...     NaN\n",
              "1                               [Pet Supplies, Dogs]  ...     NaN\n",
              "2                    [Pet Supplies, Dogs, Food, Dry]  ...     NaN\n",
              "3                                                 []  ...     NaN\n",
              "4      [Pet Supplies, Top Selection from AmazonPets]  ...     NaN\n",
              "\n",
              "[5 rows x 19 columns]"
            ]
          },
          "metadata": {},
          "execution_count": 10
        }
      ]
    },
    {
      "cell_type": "markdown",
      "metadata": {
        "id": "tJZ8_xKkSAho"
      },
      "source": [
        "Составим необходимый датафрейм"
      ]
    },
    {
      "cell_type": "code",
      "metadata": {
        "colab": {
          "base_uri": "https://localhost:8080/",
          "height": 380
        },
        "id": "WlX3RLftenFZ",
        "outputId": "0fbba790-ed8d-4f2e-9ec3-9ddd5e78c2ca"
      },
      "source": [
        "small_df = pd.merge(df, df_meta, on='asin')\n",
        "small_df = small_df[['asin', 'reviewText', 'title', 'brand', 'category']]\n",
        "small_df.head()"
      ],
      "execution_count": null,
      "outputs": [
        {
          "output_type": "execute_result",
          "data": {
            "text/html": [
              "<div>\n",
              "<style scoped>\n",
              "    .dataframe tbody tr th:only-of-type {\n",
              "        vertical-align: middle;\n",
              "    }\n",
              "\n",
              "    .dataframe tbody tr th {\n",
              "        vertical-align: top;\n",
              "    }\n",
              "\n",
              "    .dataframe thead th {\n",
              "        text-align: right;\n",
              "    }\n",
              "</style>\n",
              "<table border=\"1\" class=\"dataframe\">\n",
              "  <thead>\n",
              "    <tr style=\"text-align: right;\">\n",
              "      <th></th>\n",
              "      <th>asin</th>\n",
              "      <th>reviewText</th>\n",
              "      <th>title</th>\n",
              "      <th>brand</th>\n",
              "      <th>category</th>\n",
              "    </tr>\n",
              "  </thead>\n",
              "  <tbody>\n",
              "    <tr>\n",
              "      <th>0</th>\n",
              "      <td>0972585419</td>\n",
              "      <td>I purchased this cd for my Pocket Parrot. It h...</td>\n",
              "      <td>Pet Media Feathered Phonics The Easy Way To Te...</td>\n",
              "      <td>Pet Media</td>\n",
              "      <td>[Pet Supplies, Top Selection from AmazonPets]</td>\n",
              "    </tr>\n",
              "    <tr>\n",
              "      <th>1</th>\n",
              "      <td>0972585419</td>\n",
              "      <td>Maybe it's just my Amazon parrot, but she's no...</td>\n",
              "      <td>Pet Media Feathered Phonics The Easy Way To Te...</td>\n",
              "      <td>Pet Media</td>\n",
              "      <td>[Pet Supplies, Top Selection from AmazonPets]</td>\n",
              "    </tr>\n",
              "    <tr>\n",
              "      <th>2</th>\n",
              "      <td>0972585419</td>\n",
              "      <td>I bought this to help me teach my blue quaker ...</td>\n",
              "      <td>Pet Media Feathered Phonics The Easy Way To Te...</td>\n",
              "      <td>Pet Media</td>\n",
              "      <td>[Pet Supplies, Top Selection from AmazonPets]</td>\n",
              "    </tr>\n",
              "    <tr>\n",
              "      <th>3</th>\n",
              "      <td>0972585419</td>\n",
              "      <td>Bird showed no interest in it....</td>\n",
              "      <td>Pet Media Feathered Phonics The Easy Way To Te...</td>\n",
              "      <td>Pet Media</td>\n",
              "      <td>[Pet Supplies, Top Selection from AmazonPets]</td>\n",
              "    </tr>\n",
              "    <tr>\n",
              "      <th>4</th>\n",
              "      <td>0972585419</td>\n",
              "      <td>Didn't do a thing for my African Grey! He hate...</td>\n",
              "      <td>Pet Media Feathered Phonics The Easy Way To Te...</td>\n",
              "      <td>Pet Media</td>\n",
              "      <td>[Pet Supplies, Top Selection from AmazonPets]</td>\n",
              "    </tr>\n",
              "  </tbody>\n",
              "</table>\n",
              "</div>"
            ],
            "text/plain": [
              "         asin  ...                                       category\n",
              "0  0972585419  ...  [Pet Supplies, Top Selection from AmazonPets]\n",
              "1  0972585419  ...  [Pet Supplies, Top Selection from AmazonPets]\n",
              "2  0972585419  ...  [Pet Supplies, Top Selection from AmazonPets]\n",
              "3  0972585419  ...  [Pet Supplies, Top Selection from AmazonPets]\n",
              "4  0972585419  ...  [Pet Supplies, Top Selection from AmazonPets]\n",
              "\n",
              "[5 rows x 5 columns]"
            ]
          },
          "metadata": {},
          "execution_count": 11
        }
      ]
    },
    {
      "cell_type": "code",
      "metadata": {
        "colab": {
          "base_uri": "https://localhost:8080/",
          "height": 512
        },
        "id": "bfP7-vsQht6C",
        "outputId": "d15a7561-35b3-4281-898f-1ea481b1c83f"
      },
      "source": [
        "small_df[20:27]"
      ],
      "execution_count": null,
      "outputs": [
        {
          "output_type": "execute_result",
          "data": {
            "text/html": [
              "<div>\n",
              "<style scoped>\n",
              "    .dataframe tbody tr th:only-of-type {\n",
              "        vertical-align: middle;\n",
              "    }\n",
              "\n",
              "    .dataframe tbody tr th {\n",
              "        vertical-align: top;\n",
              "    }\n",
              "\n",
              "    .dataframe thead th {\n",
              "        text-align: right;\n",
              "    }\n",
              "</style>\n",
              "<table border=\"1\" class=\"dataframe\">\n",
              "  <thead>\n",
              "    <tr style=\"text-align: right;\">\n",
              "      <th></th>\n",
              "      <th>asin</th>\n",
              "      <th>reviewText</th>\n",
              "      <th>title</th>\n",
              "      <th>brand</th>\n",
              "      <th>category</th>\n",
              "    </tr>\n",
              "  </thead>\n",
              "  <tbody>\n",
              "    <tr>\n",
              "      <th>20</th>\n",
              "      <td>0978619404</td>\n",
              "      <td>My impressions of Fatherree's book:\\n\\nPros --...</td>\n",
              "      <td>Giant Clams in the Sea and the Aquarium</td>\n",
              "      <td>James W. Fatherree</td>\n",
              "      <td>[Pet Supplies, Fish &amp; Aquatic Pets, Aquarium D...</td>\n",
              "    </tr>\n",
              "    <tr>\n",
              "      <th>21</th>\n",
              "      <td>0978619404</td>\n",
              "      <td>finish reading this book in 2 days. this book ...</td>\n",
              "      <td>Giant Clams in the Sea and the Aquarium</td>\n",
              "      <td>James W. Fatherree</td>\n",
              "      <td>[Pet Supplies, Fish &amp; Aquatic Pets, Aquarium D...</td>\n",
              "    </tr>\n",
              "    <tr>\n",
              "      <th>22</th>\n",
              "      <td>0978619404</td>\n",
              "      <td>There aren't enough books on Giant Clams for t...</td>\n",
              "      <td>Giant Clams in the Sea and the Aquarium</td>\n",
              "      <td>James W. Fatherree</td>\n",
              "      <td>[Pet Supplies, Fish &amp; Aquatic Pets, Aquarium D...</td>\n",
              "    </tr>\n",
              "    <tr>\n",
              "      <th>23</th>\n",
              "      <td>0978619404</td>\n",
              "      <td>well written and great pics.  A keeper for you...</td>\n",
              "      <td>Giant Clams in the Sea and the Aquarium</td>\n",
              "      <td>James W. Fatherree</td>\n",
              "      <td>[Pet Supplies, Fish &amp; Aquatic Pets, Aquarium D...</td>\n",
              "    </tr>\n",
              "    <tr>\n",
              "      <th>24</th>\n",
              "      <td>0978619404</td>\n",
              "      <td>I enjoyed this book. It presents basic importa...</td>\n",
              "      <td>Giant Clams in the Sea and the Aquarium</td>\n",
              "      <td>James W. Fatherree</td>\n",
              "      <td>[Pet Supplies, Fish &amp; Aquatic Pets, Aquarium D...</td>\n",
              "    </tr>\n",
              "    <tr>\n",
              "      <th>25</th>\n",
              "      <td>1223000893</td>\n",
              "      <td>I purchased the Trilogy with hoping my two cat...</td>\n",
              "      <td>Cat Sitter DVD Trilogy - Vol 1, Vol 2 and Vol 3</td>\n",
              "      <td>Go Cat / Sunrise</td>\n",
              "      <td>[]</td>\n",
              "    </tr>\n",
              "    <tr>\n",
              "      <th>26</th>\n",
              "      <td>1223000893</td>\n",
              "      <td>My cats don't watch TV...  If they can't smell...</td>\n",
              "      <td>Cat Sitter DVD Trilogy - Vol 1, Vol 2 and Vol 3</td>\n",
              "      <td>Go Cat / Sunrise</td>\n",
              "      <td>[]</td>\n",
              "    </tr>\n",
              "  </tbody>\n",
              "</table>\n",
              "</div>"
            ],
            "text/plain": [
              "          asin  ...                                           category\n",
              "20  0978619404  ...  [Pet Supplies, Fish & Aquatic Pets, Aquarium D...\n",
              "21  0978619404  ...  [Pet Supplies, Fish & Aquatic Pets, Aquarium D...\n",
              "22  0978619404  ...  [Pet Supplies, Fish & Aquatic Pets, Aquarium D...\n",
              "23  0978619404  ...  [Pet Supplies, Fish & Aquatic Pets, Aquarium D...\n",
              "24  0978619404  ...  [Pet Supplies, Fish & Aquatic Pets, Aquarium D...\n",
              "25  1223000893  ...                                                 []\n",
              "26  1223000893  ...                                                 []\n",
              "\n",
              "[7 rows x 5 columns]"
            ]
          },
          "metadata": {},
          "execution_count": 12
        }
      ]
    },
    {
      "cell_type": "code",
      "metadata": {
        "id": "9aBWJnDfLdWl"
      },
      "source": [
        "small_df.to_csv('small_df.csv')"
      ],
      "execution_count": null,
      "outputs": []
    },
    {
      "cell_type": "markdown",
      "metadata": {
        "id": "TwZuClv3TC0Y"
      },
      "source": [
        "#### Препроц"
      ]
    },
    {
      "cell_type": "code",
      "metadata": {
        "id": "BuI1Yh_LsWB1"
      },
      "source": [
        "def preproc(raw):\n",
        "    clear_raw = []\n",
        "    doc = nlp(raw.lower())\n",
        "    for token in doc:\n",
        "        if token.text.isalpha():\n",
        "            clear_raw.append((token.lemma_, token.pos_))\n",
        "    return clear_raw"
      ],
      "execution_count": null,
      "outputs": []
    },
    {
      "cell_type": "markdown",
      "metadata": {
        "id": "IU8LHkgHgso-"
      },
      "source": [
        "#### Список всех товаров"
      ]
    },
    {
      "cell_type": "markdown",
      "metadata": {
        "id": "Tbl_Ld3plVHq"
      },
      "source": [
        "Нашими NE будут:\n",
        "\n",
        "- сущ\n",
        "- сущ+сущ\n",
        "- прил+сущ\n",
        "- сущ+предлог+сущ"
      ]
    },
    {
      "cell_type": "code",
      "metadata": {
        "colab": {
          "base_uri": "https://localhost:8080/"
        },
        "id": "-HL1GBv0gxln",
        "outputId": "f4e0048a-b864-49af-fa8c-76db7d4a1fcb"
      },
      "source": [
        "products = []\n",
        "preproc_titles = {}\n",
        "for j, title in enumerate(set(small_df['title'])):\n",
        "    if j % 10000 == 0:\n",
        "        print(j)\n",
        "    title = preproc(title)\n",
        "    for (w,t) in title:\n",
        "        if t=='NOUN':\n",
        "            products.append(w)\n",
        "    bigrams = nltk.bigrams(title)\n",
        "    trigrams = nltk.trigrams(title)\n",
        "    try:\n",
        "        for (w1,t1), (w2,t2) in bigrams:\n",
        "            if (t1=='NOUN') and (t2=='NOUN') or (t1=='ADJ') and (t2=='NOUN'):\n",
        "                products.append(' '.join([w1, w2]))\n",
        "    except RuntimeError as error:\n",
        "        pass\n",
        "    try:\n",
        "        for (w1,t1), (w2,t2), (w3,t3) in trigrams:\n",
        "            if (t1=='NOUN') and (t2=='ADP') and (t3=='NOUN'):\n",
        "                products.append(' '.join([w1, w2, w3]))\n",
        "    except RuntimeError as error:\n",
        "        pass"
      ],
      "execution_count": null,
      "outputs": [
        {
          "output_type": "stream",
          "name": "stdout",
          "text": [
            "0\n",
            "10000\n",
            "20000\n",
            "30000\n",
            "40000\n"
          ]
        }
      ]
    },
    {
      "cell_type": "code",
      "metadata": {
        "colab": {
          "base_uri": "https://localhost:8080/"
        },
        "id": "Djwo7RjusAja",
        "outputId": "aaa6950a-a1cc-46a9-fda8-6548c56f0b57"
      },
      "source": [
        "products = set(products)\n",
        "products = list(products)\n",
        "print(products[0], '\\n', products[128], '\\n', products[32000])"
      ],
      "execution_count": null,
      "outputs": [
        {
          "output_type": "stream",
          "name": "stdout",
          "text": [
            "superfood for dog \n",
            " sense cat \n",
            " collar for pound\n"
          ]
        }
      ]
    },
    {
      "cell_type": "markdown",
      "metadata": {
        "id": "0dKBYaQuyP34"
      },
      "source": [
        "#### Товары в отзывах"
      ]
    },
    {
      "cell_type": "markdown",
      "metadata": {
        "id": "6190gCpUxULC"
      },
      "source": [
        "Теперь препроц для ревью"
      ]
    },
    {
      "cell_type": "code",
      "metadata": {
        "id": "vsVF4YMuxWVS"
      },
      "source": [
        "def preproc_review(raw):\n",
        "    raw = str(raw).lower().strip()\n",
        "    tokens = word_tokenize(raw)\n",
        "    clean_text = []\n",
        "    for tok in tokens:\n",
        "        if tok.isalpha():\n",
        "            clean_text.append(lemmatizer.lemmatize(tok))\n",
        "    return clean_text"
      ],
      "execution_count": null,
      "outputs": []
    },
    {
      "cell_type": "markdown",
      "metadata": {
        "id": "UhjoAVKAyVGV"
      },
      "source": [
        "Ищем пересечения"
      ]
    },
    {
      "cell_type": "code",
      "metadata": {
        "colab": {
          "base_uri": "https://localhost:8080/",
          "height": 495
        },
        "id": "Fg6wlf9rxk_y",
        "outputId": "f183ff6c-2c61-486e-d73c-58bf660b0c6e"
      },
      "source": [
        "ne = []\n",
        "for j, review in enumerate(set(small_df['reviewText'])):\n",
        "    if j % 25000 == 0:\n",
        "        print(j)\n",
        "    review = preproc_review(str(review))\n",
        "    bigrams = ngrams(review, 2)\n",
        "    bi = []\n",
        "    try:\n",
        "        for w1, w2 in bigrams:\n",
        "            bi.append(' '.join([w1, w2]))\n",
        "    except RuntimeError as error:\n",
        "        pass\n",
        "    trigrams = ngrams(review, 3)\n",
        "    tri = []\n",
        "    try:\n",
        "        for w1, w2, w3 in trigrams:\n",
        "            tri.append(' '.join([w1, w2, w3]))\n",
        "    except RuntimeError as error:\n",
        "        pass\n",
        "    ne.extend(list(set(products)&set(review)))\n",
        "    ne.extend(list(set(products)&set(bi)))\n",
        "    ne.extend(list(set(products)&set(tri)))\n",
        "print(len(ne))"
      ],
      "execution_count": null,
      "outputs": [
        {
          "output_type": "stream",
          "name": "stdout",
          "text": [
            "0\n",
            "25000\n",
            "50000\n",
            "75000\n",
            "100000\n",
            "125000\n",
            "150000\n",
            "175000\n",
            "200000\n",
            "225000\n",
            "250000\n",
            "275000\n",
            "300000\n",
            "325000\n",
            "350000\n"
          ]
        },
        {
          "output_type": "error",
          "ename": "KeyboardInterrupt",
          "evalue": "ignored",
          "traceback": [
            "\u001b[0;31m---------------------------------------------------------------------------\u001b[0m",
            "\u001b[0;31mKeyboardInterrupt\u001b[0m                         Traceback (most recent call last)",
            "\u001b[0;32m<ipython-input-19-735d5f450e94>\u001b[0m in \u001b[0;36m<module>\u001b[0;34m()\u001b[0m\n\u001b[1;32m     18\u001b[0m     \u001b[0;32mexcept\u001b[0m \u001b[0mRuntimeError\u001b[0m \u001b[0;32mas\u001b[0m \u001b[0merror\u001b[0m\u001b[0;34m:\u001b[0m\u001b[0;34m\u001b[0m\u001b[0;34m\u001b[0m\u001b[0m\n\u001b[1;32m     19\u001b[0m         \u001b[0;32mpass\u001b[0m\u001b[0;34m\u001b[0m\u001b[0;34m\u001b[0m\u001b[0m\n\u001b[0;32m---> 20\u001b[0;31m     \u001b[0mne\u001b[0m\u001b[0;34m.\u001b[0m\u001b[0mextend\u001b[0m\u001b[0;34m(\u001b[0m\u001b[0mlist\u001b[0m\u001b[0;34m(\u001b[0m\u001b[0mset\u001b[0m\u001b[0;34m(\u001b[0m\u001b[0mproducts\u001b[0m\u001b[0;34m)\u001b[0m\u001b[0;34m&\u001b[0m\u001b[0mset\u001b[0m\u001b[0;34m(\u001b[0m\u001b[0mreview\u001b[0m\u001b[0;34m)\u001b[0m\u001b[0;34m)\u001b[0m\u001b[0;34m)\u001b[0m\u001b[0;34m\u001b[0m\u001b[0;34m\u001b[0m\u001b[0m\n\u001b[0m\u001b[1;32m     21\u001b[0m     \u001b[0mne\u001b[0m\u001b[0;34m.\u001b[0m\u001b[0mextend\u001b[0m\u001b[0;34m(\u001b[0m\u001b[0mlist\u001b[0m\u001b[0;34m(\u001b[0m\u001b[0mset\u001b[0m\u001b[0;34m(\u001b[0m\u001b[0mproducts\u001b[0m\u001b[0;34m)\u001b[0m\u001b[0;34m&\u001b[0m\u001b[0mset\u001b[0m\u001b[0;34m(\u001b[0m\u001b[0mbi\u001b[0m\u001b[0;34m)\u001b[0m\u001b[0;34m)\u001b[0m\u001b[0;34m)\u001b[0m\u001b[0;34m\u001b[0m\u001b[0;34m\u001b[0m\u001b[0m\n\u001b[1;32m     22\u001b[0m     \u001b[0mne\u001b[0m\u001b[0;34m.\u001b[0m\u001b[0mextend\u001b[0m\u001b[0;34m(\u001b[0m\u001b[0mlist\u001b[0m\u001b[0;34m(\u001b[0m\u001b[0mset\u001b[0m\u001b[0;34m(\u001b[0m\u001b[0mproducts\u001b[0m\u001b[0;34m)\u001b[0m\u001b[0;34m&\u001b[0m\u001b[0mset\u001b[0m\u001b[0;34m(\u001b[0m\u001b[0mtri\u001b[0m\u001b[0;34m)\u001b[0m\u001b[0;34m)\u001b[0m\u001b[0;34m)\u001b[0m\u001b[0;34m\u001b[0m\u001b[0;34m\u001b[0m\u001b[0m\n",
            "\u001b[0;31mKeyboardInterrupt\u001b[0m: "
          ]
        }
      ]
    },
    {
      "cell_type": "code",
      "metadata": {
        "colab": {
          "base_uri": "https://localhost:8080/"
        },
        "id": "0hwqmvOGaSNy",
        "outputId": "65ca857e-4059-4cf2-8ecf-7473254d165a"
      },
      "source": [
        "print(len(ne))"
      ],
      "execution_count": null,
      "outputs": [
        {
          "output_type": "stream",
          "name": "stdout",
          "text": [
            "5245952\n"
          ]
        }
      ]
    },
    {
      "cell_type": "code",
      "metadata": {
        "colab": {
          "base_uri": "https://localhost:8080/"
        },
        "id": "M4aKNcAavJBU",
        "outputId": "47b2b9e2-2543-4810-c20d-d58afe313586"
      },
      "source": [
        "print(len(small_df))"
      ],
      "execution_count": null,
      "outputs": [
        {
          "output_type": "stream",
          "name": "stdout",
          "text": [
            "2336465\n"
          ]
        }
      ]
    },
    {
      "cell_type": "code",
      "metadata": {
        "id": "Ji84SuUlaiv5"
      },
      "source": [
        "import json \n",
        "\n",
        "with open(\"ne_list.json\", \"w\", encoding=\"utf-8\") as file:\n",
        "    json.dump(ne, file)"
      ],
      "execution_count": null,
      "outputs": []
    },
    {
      "cell_type": "markdown",
      "metadata": {
        "id": "7De9pkK6u8zh"
      },
      "source": [
        "1) я поставила программу работать и забыла про неё, не увидев, что все 3 часа моего отсутсвия она работала. Предполагаю, что проблема в препроцессинге.\n",
        "\n",
        "2) перед тем, как искать пересечения товаров из названий с отзывами, я забыла расширить список товаров с помощью векторной модели и/или WordNet. Ниже я приведу другой способ решения, в котором использую векторную модель.\n",
        "\n",
        "3) В датафреме 2 миллиона строк. Из них обработалось 350 тысяч за 3 часа. В списке NE получилось 5,2 миллиона элементов. Я хочу посмотреть, что там получилось, поэтому не буду удалять эту часть решения, хоть она и не соответствует выбранным способам."
      ]
    },
    {
      "cell_type": "code",
      "metadata": {
        "id": "1NDsOeibu8O0"
      },
      "source": [
        "with open('ne_list.json', 'r', encoding='utf-8') as file:\n",
        "    ne_list = json.load(file)"
      ],
      "execution_count": null,
      "outputs": []
    },
    {
      "cell_type": "code",
      "metadata": {
        "colab": {
          "base_uri": "https://localhost:8080/"
        },
        "id": "ddh9BAXBxxQ4",
        "outputId": "3df28b26-2bba-489e-b54a-036f97680071"
      },
      "source": [
        "ne_c = Counter(ne_list)\n",
        "print(ne_c.most_common(25))"
      ],
      "execution_count": null,
      "outputs": [
        {
          "output_type": "stream",
          "name": "stdout",
          "text": [
            "[('a', 200145), ('dog', 121074), ('in', 115922), ('on', 95049), ('love', 93592), ('one', 67324), ('cat', 63920), ('get', 52015), ('up', 51604), ('out', 50701), ('ha', 50398), ('work', 47500), ('good', 47424), ('well', 47386), ('product', 46695), ('can', 43551), ('use', 40625), ('time', 39094), ('more', 38182), ('little', 35054), ('no', 34944), ('other', 33765), ('about', 32437), ('food', 31418), ('small', 28077)]\n"
          ]
        }
      ]
    },
    {
      "cell_type": "markdown",
      "metadata": {
        "id": "ul7FUVh6yYaB"
      },
      "source": [
        "Окей, с существительными не получилось. Давайте посмотрим на триграммы."
      ]
    },
    {
      "cell_type": "code",
      "metadata": {
        "colab": {
          "base_uri": "https://localhost:8080/"
        },
        "id": "PZMirDbkyfHj",
        "outputId": "805d3d04-c4b2-4135-9be0-40e86d3a3174"
      },
      "source": [
        "ne_c_bi = Counter([i for i in ne_list if len(i.split())>1])\n",
        "for ne in ne_c_bi.most_common(25):\n",
        "    print(ne)"
      ],
      "execution_count": null,
      "outputs": [
        {
          "output_type": "stream",
          "name": "stdout",
          "text": [
            "('dog love', 17891)\n",
            "('a long', 6941)\n",
            "('dog food', 5343)\n",
            "('litter box', 4704)\n",
            "('small dog', 4363)\n",
            "('good quality', 4137)\n",
            "('pet store', 3445)\n",
            "('cat food', 3314)\n",
            "('high quality', 2561)\n",
            "('perfect size', 2540)\n",
            "('dry food', 2416)\n",
            "('german shepherd', 2388)\n",
            "('other dog', 2376)\n",
            "('large dog', 2138)\n",
            "('good price', 2071)\n",
            "('other brand', 1988)\n",
            "('great quality', 1938)\n",
            "('favorite toy', 1881)\n",
            "('little dog', 1845)\n",
            "('few month', 1716)\n",
            "('wet food', 1674)\n",
            "('cat litter', 1623)\n",
            "('big dog', 1521)\n",
            "('dog can', 1520)\n",
            "('in case', 1498)\n"
          ]
        }
      ]
    },
    {
      "cell_type": "markdown",
      "metadata": {
        "id": "BWCPWazNy9wl"
      },
      "source": [
        "Окей, не супер информативно, тут есть какие-то товары (*dry food*, *favourite toy* (скорее к следующему заданию), *wet food*, *litter box*, *dog food*, *cat food*, *dog food*, *cat litter*), но они находятся среди кучи мусора. Посмотрим на триграммы. "
      ]
    },
    {
      "cell_type": "code",
      "metadata": {
        "colab": {
          "base_uri": "https://localhost:8080/"
        },
        "id": "_XsRc1WZz_hX",
        "outputId": "c543e5a2-ccd9-4851-d0d0-b0a97cefc52a"
      },
      "source": [
        "ne_c_tri = Counter([i for i in ne_list if len(i.split())>2])\n",
        "for ne in ne_c_tri.most_common(25):\n",
        "    print(ne)"
      ],
      "execution_count": null,
      "outputs": [
        {
          "output_type": "stream",
          "name": "stdout",
          "text": [
            "('tug of war', 561)\n",
            "('lot of fun', 315)\n",
            "('peace of mind', 305)\n",
            "('cup of food', 174)\n",
            "('hour of fun', 158)\n",
            "('side by side', 152)\n",
            "('ease of use', 138)\n",
            "('gallon of water', 127)\n",
            "('type of dog', 125)\n",
            "('dog at night', 112)\n",
            "('quality of life', 103)\n",
            "('treat for dog', 102)\n",
            "('toy for dog', 95)\n",
            "('dog with allergy', 91)\n",
            "('treat for training', 91)\n",
            "('product for dog', 88)\n",
            "('kind of dog', 84)\n",
            "('bag of cat', 82)\n",
            "('food for dog', 71)\n",
            "('type of cat', 69)\n",
            "('food for cat', 66)\n",
            "('breed of dog', 63)\n",
            "('piece for training', 55)\n",
            "('toy for cat', 55)\n",
            "('inch in diameter', 54)\n"
          ]
        }
      ]
    },
    {
      "cell_type": "markdown",
      "metadata": {
        "id": "5kPO6zXf0juO"
      },
      "source": [
        "Ну тут тоже не особенно информативно: *tug of war* (я не знала, но, оказывается, это вот такая [игрушка](https://www.thesprucepets.com/thmb/TRg0re5nWs_sxzZg57ASN6T9i8A=/1468x979/filters:fill(auto,1)/tug-of-war-with-your-dog-1118370_1287-c9bb58ede5234abbbacd6576f8db2f3c.jpg) для собак!), *cup of food*, *treat for dog*, *toy for dog*, *treat for training*, *product for dog*, *bag of cat*, *food for cat*, *toy for cat*). А что если попробовать из уже выделенных сущностей вытащить только те, которые имеют отношение к домашним животным?"
      ]
    },
    {
      "cell_type": "markdown",
      "metadata": {
        "id": "iLtRSIHM2IL-"
      },
      "source": [
        "#### Попробуем через w2v модель"
      ]
    },
    {
      "cell_type": "code",
      "metadata": {
        "id": "Odf3XHtY2O0Z"
      },
      "source": [
        "def process_w2v(raw):\n",
        "    raw = str(raw).lower().strip()\n",
        "    for char in punctuation:\n",
        "        raw = raw.replace(char, ' ')\n",
        "    return raw.split()"
      ],
      "execution_count": null,
      "outputs": []
    },
    {
      "cell_type": "code",
      "metadata": {
        "id": "kMR0MU5H1vhR"
      },
      "source": [
        "corp = [process_w2v(i) for i in small_df[:500000].reviewText.tolist()]"
      ],
      "execution_count": null,
      "outputs": []
    },
    {
      "cell_type": "code",
      "metadata": {
        "id": "9HU1Tnq33IWE"
      },
      "source": [
        "model = gensim.models.Word2Vec(corp, window=3, sg=0)"
      ],
      "execution_count": null,
      "outputs": []
    },
    {
      "cell_type": "code",
      "metadata": {
        "id": "XJgv7NVU3bd9"
      },
      "source": [
        "pets_ne = []\n",
        "pet_words = ['food', 'toy', 'bag', 'medicine']\n",
        "for word in pet_words:\n",
        "    model_words = []\n",
        "    for (w, score) in model.wv.most_similar(word, topn=15):\n",
        "        model_words.append(w)\n",
        "    for model_word in model_words:\n",
        "        for ne in ne_list:\n",
        "            if model_word in ne.split():\n",
        "                pets_ne.append(ne)"
      ],
      "execution_count": null,
      "outputs": []
    },
    {
      "cell_type": "code",
      "metadata": {
        "colab": {
          "base_uri": "https://localhost:8080/"
        },
        "id": "8GH7WycU4_-J",
        "outputId": "2647fb03-8876-4a33-dcca-724499a9b2e2"
      },
      "source": [
        "pets_ne_c = Counter(pets_ne)\n",
        "for ne in pets_ne_c.most_common(25):\n",
        "    print(ne)"
      ],
      "execution_count": null,
      "outputs": [
        {
          "output_type": "stream",
          "name": "stdout",
          "text": [
            "('product', 46695)\n",
            "('thing', 20270)\n",
            "('box', 12546)\n",
            "('ball', 9366)\n",
            "('stuff', 9064)\n",
            "('bed', 8738)\n",
            "('item', 7644)\n",
            "('litter box', 4704)\n",
            "('bottle', 4310)\n",
            "('bone', 4189)\n",
            "('package', 3365)\n",
            "('diet', 3312)\n",
            "('container', 2880)\n",
            "('formula', 1646)\n",
            "('tray', 1466)\n",
            "('seed', 1191)\n",
            "('pan', 1127)\n",
            "('treatment', 1120)\n",
            "('quality product', 1084)\n",
            "('tennis ball', 1027)\n",
            "('dog bed', 994)\n",
            "('duck', 976)\n",
            "('hay', 943)\n",
            "('wellness', 926)\n",
            "('game', 883)\n"
          ]
        }
      ]
    },
    {
      "cell_type": "markdown",
      "metadata": {
        "id": "HeWyJbEE7FBS"
      },
      "source": [
        "Окей, кажется, так получше. Давайте попробуй посомтреть отдельно на биграммы, триграммы и униграммы."
      ]
    },
    {
      "cell_type": "code",
      "metadata": {
        "colab": {
          "base_uri": "https://localhost:8080/",
          "height": 832
        },
        "id": "467C2tHi7L-m",
        "outputId": "7a7d0aca-b0f3-415b-e995-bcfafa44f04e"
      },
      "source": [
        "data = {1:[], 2:[], 3:[]}\n",
        "for i in range(1, 4, 1):\n",
        "    c = Counter([n for n in pets_ne if len(n.split())==i])\n",
        "    for (w, score) in c.most_common(25):\n",
        "        data[i].append(w)\n",
        "popular_ne = pd.DataFrame(data, columns=data.keys())\n",
        "popular_ne"
      ],
      "execution_count": null,
      "outputs": [
        {
          "output_type": "execute_result",
          "data": {
            "text/html": [
              "<div>\n",
              "<style scoped>\n",
              "    .dataframe tbody tr th:only-of-type {\n",
              "        vertical-align: middle;\n",
              "    }\n",
              "\n",
              "    .dataframe tbody tr th {\n",
              "        vertical-align: top;\n",
              "    }\n",
              "\n",
              "    .dataframe thead th {\n",
              "        text-align: right;\n",
              "    }\n",
              "</style>\n",
              "<table border=\"1\" class=\"dataframe\">\n",
              "  <thead>\n",
              "    <tr style=\"text-align: right;\">\n",
              "      <th></th>\n",
              "      <th>1</th>\n",
              "      <th>2</th>\n",
              "      <th>3</th>\n",
              "    </tr>\n",
              "  </thead>\n",
              "  <tbody>\n",
              "    <tr>\n",
              "      <th>0</th>\n",
              "      <td>product</td>\n",
              "      <td>litter box</td>\n",
              "      <td>product for dog</td>\n",
              "    </tr>\n",
              "    <tr>\n",
              "      <th>1</th>\n",
              "      <td>thing</td>\n",
              "      <td>quality product</td>\n",
              "      <td>bed on top</td>\n",
              "    </tr>\n",
              "    <tr>\n",
              "      <th>2</th>\n",
              "      <td>box</td>\n",
              "      <td>tennis ball</td>\n",
              "      <td>product for cat</td>\n",
              "    </tr>\n",
              "    <tr>\n",
              "      <th>3</th>\n",
              "      <td>ball</td>\n",
              "      <td>dog bed</td>\n",
              "      <td>product for pet</td>\n",
              "    </tr>\n",
              "    <tr>\n",
              "      <th>4</th>\n",
              "      <td>stuff</td>\n",
              "      <td>water bottle</td>\n",
              "      <td>probiotic for dog</td>\n",
              "    </tr>\n",
              "    <tr>\n",
              "      <th>5</th>\n",
              "      <td>bed</td>\n",
              "      <td>science diet</td>\n",
              "      <td>ball for dog</td>\n",
              "    </tr>\n",
              "    <tr>\n",
              "      <th>6</th>\n",
              "      <td>item</td>\n",
              "      <td>litter pan</td>\n",
              "      <td>ball with bell</td>\n",
              "    </tr>\n",
              "    <tr>\n",
              "      <th>7</th>\n",
              "      <td>bottle</td>\n",
              "      <td>pet bed</td>\n",
              "      <td>box for cat</td>\n",
              "    </tr>\n",
              "    <tr>\n",
              "      <th>8</th>\n",
              "      <td>bone</td>\n",
              "      <td>pet product</td>\n",
              "      <td>pull out tray</td>\n",
              "    </tr>\n",
              "    <tr>\n",
              "      <th>9</th>\n",
              "      <td>package</td>\n",
              "      <td>treat ball</td>\n",
              "      <td>container for dog</td>\n",
              "    </tr>\n",
              "    <tr>\n",
              "      <th>10</th>\n",
              "      <td>diet</td>\n",
              "      <td>cat bed</td>\n",
              "      <td>glucosamine for dog</td>\n",
              "    </tr>\n",
              "    <tr>\n",
              "      <th>11</th>\n",
              "      <td>container</td>\n",
              "      <td>spray bottle</td>\n",
              "      <td>product for human</td>\n",
              "    </tr>\n",
              "    <tr>\n",
              "      <th>12</th>\n",
              "      <td>formula</td>\n",
              "      <td>natural product</td>\n",
              "      <td>bed for dog</td>\n",
              "    </tr>\n",
              "    <tr>\n",
              "      <th>13</th>\n",
              "      <td>tray</td>\n",
              "      <td>milk bone</td>\n",
              "      <td>probiotic for cat</td>\n",
              "    </tr>\n",
              "    <tr>\n",
              "      <th>14</th>\n",
              "      <td>seed</td>\n",
              "      <td>favorite thing</td>\n",
              "      <td>bone for dog</td>\n",
              "    </tr>\n",
              "    <tr>\n",
              "      <th>15</th>\n",
              "      <td>pan</td>\n",
              "      <td>hair ball</td>\n",
              "      <td>animal by product</td>\n",
              "    </tr>\n",
              "    <tr>\n",
              "      <th>16</th>\n",
              "      <td>treatment</td>\n",
              "      <td>toy box</td>\n",
              "      <td>diet for cat</td>\n",
              "    </tr>\n",
              "    <tr>\n",
              "      <th>17</th>\n",
              "      <td>duck</td>\n",
              "      <td>raw diet</td>\n",
              "      <td>product for aquarium</td>\n",
              "    </tr>\n",
              "    <tr>\n",
              "      <th>18</th>\n",
              "      <td>hay</td>\n",
              "      <td>chew bone</td>\n",
              "      <td>bed for cat</td>\n",
              "    </tr>\n",
              "    <tr>\n",
              "      <th>19</th>\n",
              "      <td>wellness</td>\n",
              "      <td>food container</td>\n",
              "      <td>formula for cat</td>\n",
              "    </tr>\n",
              "    <tr>\n",
              "      <th>20</th>\n",
              "      <td>game</td>\n",
              "      <td>moss ball</td>\n",
              "      <td>pouch for training</td>\n",
              "    </tr>\n",
              "    <tr>\n",
              "      <th>21</th>\n",
              "      <td>medication</td>\n",
              "      <td>plastic container</td>\n",
              "      <td>pouch for treat</td>\n",
              "    </tr>\n",
              "    <tr>\n",
              "      <th>22</th>\n",
              "      <td>pouch</td>\n",
              "      <td>rubber ball</td>\n",
              "      <td>pan for cat</td>\n",
              "    </tr>\n",
              "    <tr>\n",
              "      <th>23</th>\n",
              "      <td>hammock</td>\n",
              "      <td>dog bone</td>\n",
              "      <td>treatment for cat</td>\n",
              "    </tr>\n",
              "    <tr>\n",
              "      <th>24</th>\n",
              "      <td>bucket</td>\n",
              "      <td>flea treatment</td>\n",
              "      <td>formula for dog</td>\n",
              "    </tr>\n",
              "  </tbody>\n",
              "</table>\n",
              "</div>"
            ],
            "text/plain": [
              "             1                  2                     3\n",
              "0      product         litter box       product for dog\n",
              "1        thing    quality product            bed on top\n",
              "2          box        tennis ball       product for cat\n",
              "3         ball            dog bed       product for pet\n",
              "4        stuff       water bottle     probiotic for dog\n",
              "5          bed       science diet          ball for dog\n",
              "6         item         litter pan        ball with bell\n",
              "7       bottle            pet bed           box for cat\n",
              "8         bone        pet product         pull out tray\n",
              "9      package         treat ball     container for dog\n",
              "10        diet            cat bed   glucosamine for dog\n",
              "11   container       spray bottle     product for human\n",
              "12     formula    natural product           bed for dog\n",
              "13        tray          milk bone     probiotic for cat\n",
              "14        seed     favorite thing          bone for dog\n",
              "15         pan          hair ball     animal by product\n",
              "16   treatment            toy box          diet for cat\n",
              "17        duck           raw diet  product for aquarium\n",
              "18         hay          chew bone           bed for cat\n",
              "19    wellness     food container       formula for cat\n",
              "20        game          moss ball    pouch for training\n",
              "21  medication  plastic container       pouch for treat\n",
              "22       pouch        rubber ball           pan for cat\n",
              "23     hammock           dog bone     treatment for cat\n",
              "24      bucket     flea treatment       formula for dog"
            ]
          },
          "metadata": {},
          "execution_count": 50
        }
      ]
    },
    {
      "cell_type": "markdown",
      "metadata": {
        "id": "78j43wcp9oLg"
      },
      "source": [
        "Кстати, даже отсюда видно, что самые популярные названия для товаров - *product*, *thing*, *item*, *stuff*, а не непосредственно упоминания. И самые популярные домашние животные - кошки и собаки)"
      ]
    },
    {
      "cell_type": "markdown",
      "metadata": {
        "id": "Z6_ahnCI9JHk"
      },
      "source": [
        "Вот так, кажется, стало хорошо. Для следующего задания выберем следующие 9 продуктов: извините, что не 5, интересно посмотреть на многие)"
      ]
    },
    {
      "cell_type": "code",
      "metadata": {
        "id": "swrPRJR79ao-"
      },
      "source": [
        "supplies = {1 : ['box', 'bone', 'bed'],\n",
        "            2 : ['food container', 'cat bed', 'litter box'],\n",
        "            3 : ['box for cat', 'ball for dog', 'product for aquarium']}"
      ],
      "execution_count": 35,
      "outputs": []
    },
    {
      "cell_type": "markdown",
      "metadata": {
        "id": "A38N380Mp6JI"
      },
      "source": [
        "### Задание 3.\n",
        "Соберите n-граммы с полученными сущностями (NE + левый сосед / NE + правый сосед)"
      ]
    },
    {
      "cell_type": "code",
      "metadata": {
        "colab": {
          "base_uri": "https://localhost:8080/",
          "height": 49,
          "referenced_widgets": [
            "49fb79b8d48242d6b7504075d74a5f53",
            "db0164d1748c4175aaf6e4ac362e0900",
            "6969f5e80922432e90b996c5275ef76c",
            "06eb85cf54de42c2a5d44a8409497b8b",
            "fc940bc313ac48619d86ca9078867472",
            "51d74fc10e6d48ae8aebcc6ddabcf7f3",
            "20797309e6ba4e0d8fa4e3e2e26c3586",
            "21535e64488f4f2597703546f0cb13e5",
            "8e5194f4eab54c938e113076d7a684ac",
            "1b1950e97e6541f289be6fbbe6576a85",
            "949223440a8b467da7d388529fd80033"
          ]
        },
        "id": "9YqM_WmUB9qk",
        "outputId": "a9c3b49f-056a-41b5-a259-5ae9a98cb364"
      },
      "source": [
        "from tqdm.auto import tqdm\n",
        "import tqdm\n",
        "tqdm.notebook.tqdm().pandas()"
      ],
      "execution_count": 3,
      "outputs": [
        {
          "output_type": "display_data",
          "data": {
            "application/vnd.jupyter.widget-view+json": {
              "model_id": "49fb79b8d48242d6b7504075d74a5f53",
              "version_minor": 0,
              "version_major": 2
            },
            "text/plain": [
              "0it [00:00, ?it/s]"
            ]
          },
          "metadata": {}
        }
      ]
    },
    {
      "cell_type": "code",
      "metadata": {
        "id": "G9EOcGPCNGvZ"
      },
      "source": [
        "smaller_df = pd.read_csv('small_df.csv')"
      ],
      "execution_count": 8,
      "outputs": []
    },
    {
      "cell_type": "code",
      "metadata": {
        "id": "QxW9mdwtChOv"
      },
      "source": [
        "smaller_df = smaller_df[:350000]"
      ],
      "execution_count": 9,
      "outputs": []
    },
    {
      "cell_type": "code",
      "metadata": {
        "id": "YgMc03AzFsTO"
      },
      "source": [
        "def preproc_df_review(raw):\n",
        "    raw = str(raw).lower().strip()\n",
        "    tokens = word_tokenize(raw)\n",
        "    clean_text = ''\n",
        "    for tok in tokens:\n",
        "        if tok.isalpha():\n",
        "            clean_text = clean_text + ' ' + lemmatizer.lemmatize(tok)\n",
        "    return clean_text"
      ],
      "execution_count": 10,
      "outputs": []
    },
    {
      "cell_type": "code",
      "metadata": {
        "colab": {
          "base_uri": "https://localhost:8080/",
          "height": 49,
          "referenced_widgets": [
            "e7e6a3a312744d97a3de248a6fc80d02",
            "cee5968bd1ca4a88897f57a209946732",
            "88fade75d0104f7599ebe2957677292f",
            "cef27114eea14e85a78578679c87b651",
            "bee2b8d220b04c0e9be6642babcd1796",
            "fbe8d0f24c59467b96787f27ac1463ad",
            "93bd34bcfcb94ab9ab2606d55b04f0a2",
            "b0532b7757eb436a8962f61cf880f766",
            "ac0f220dddb0490dbfdfd94d0172a937",
            "3c4a0bcd8002426db9cd4d17bf962cd1",
            "edd1d230e53e490fbf88e14841438768"
          ]
        },
        "id": "0yFI76bdA_tb",
        "outputId": "bb8d2aa8-e878-4aba-e0a4-7cf59be8f13c"
      },
      "source": [
        "smaller_df['clean_review'] = smaller_df['reviewText'].progress_apply(lambda x: preproc_df_review(x))"
      ],
      "execution_count": 11,
      "outputs": [
        {
          "output_type": "display_data",
          "data": {
            "application/vnd.jupyter.widget-view+json": {
              "model_id": "e7e6a3a312744d97a3de248a6fc80d02",
              "version_minor": 0,
              "version_major": 2
            },
            "text/plain": [
              "  0%|          | 0/350000 [00:00<?, ?it/s]"
            ]
          },
          "metadata": {}
        }
      ]
    },
    {
      "cell_type": "code",
      "metadata": {
        "id": "SoGhcsbFNlxX"
      },
      "source": [
        "smaller_df.to_csv('smaller_df.csv')"
      ],
      "execution_count": null,
      "outputs": []
    },
    {
      "cell_type": "markdown",
      "metadata": {
        "id": "ELTC6KVz_02u"
      },
      "source": [
        "Будем собирать только биграммы."
      ]
    },
    {
      "cell_type": "code",
      "metadata": {
        "id": "P0cGVEIeS49q"
      },
      "source": [
        "smaller_df = pd.read_csv('smaller_df.csv')"
      ],
      "execution_count": 6,
      "outputs": []
    },
    {
      "cell_type": "markdown",
      "metadata": {
        "id": "Qcksb4i8j8_2"
      },
      "source": [
        "Биграммы для униграмм"
      ]
    },
    {
      "cell_type": "code",
      "metadata": {
        "id": "XxNGa7y8_5cZ"
      },
      "source": [
        "bigrams = ngrams(' '.join(smaller_df['clean_review']).split(), 2)\n",
        "bi = Counter(bigrams)\n",
        "supply_bigrams = {supply : [] for supply in supplies[1]}\n",
        "for bigram in bi.most_common():\n",
        "    for supply in supply_bigrams.keys():\n",
        "        if supply in bigram[0]:\n",
        "            supply_bigrams[supply].append(bigram)"
      ],
      "execution_count": 36,
      "outputs": []
    },
    {
      "cell_type": "markdown",
      "metadata": {
        "id": "iysxcDibkAME"
      },
      "source": [
        "Биграммы для биграмм (сосед + биграмма или биграмма + сосед)"
      ]
    },
    {
      "cell_type": "code",
      "metadata": {
        "id": "0ieAS5cvIyPw"
      },
      "source": [
        "trigrams = ngrams(' '.join(smaller_df['clean_review']).split(), 3)\n",
        "tri = Counter(trigrams)\n",
        "supply_trigrams = {supply : [] for supply in supplies[2]}\n",
        "for trigram in tri.most_common():\n",
        "    for supply in supply_trigrams.keys():\n",
        "        if supply in ' '.join(trigram[0]):\n",
        "            supply_trigrams[supply].append(trigram)"
      ],
      "execution_count": 13,
      "outputs": []
    },
    {
      "cell_type": "markdown",
      "metadata": {
        "id": "Ne2bz0PfkFUt"
      },
      "source": [
        "Биграммы для триграмм (сосед + триграмма или триграмма + сосед)"
      ]
    },
    {
      "cell_type": "code",
      "metadata": {
        "id": "5fkT671zJ8k3"
      },
      "source": [
        "fourgrams = ngrams(' '.join(smaller_df['clean_review']).split(), 4)\n",
        "four = Counter(fourgrams)\n",
        "supply_fourgrams = {supply : [] for supply in supplies[3]}\n",
        "for fourgram in four.most_common():\n",
        "    for supply in supply_fourgrams.keys():\n",
        "        if supply in ' '.join(fourgram[0]):\n",
        "            supply_fourgrams[supply].append(fourgram)"
      ],
      "execution_count": 19,
      "outputs": []
    },
    {
      "cell_type": "markdown",
      "metadata": {
        "id": "tzpFoLqFkKQX"
      },
      "source": [
        "Для биграмм и триграмм получается мало элементов:"
      ]
    },
    {
      "cell_type": "code",
      "metadata": {
        "colab": {
          "base_uri": "https://localhost:8080/"
        },
        "id": "H3XkuoPPUhWc",
        "outputId": "e9ceab45-2f07-4d65-ed06-cc81e3b92f6a"
      },
      "source": [
        "for k, v in supply_trigrams.items():\n",
        "    print(len(v))"
      ],
      "execution_count": 21,
      "outputs": [
        {
          "output_type": "stream",
          "name": "stdout",
          "text": [
            "52\n",
            "78\n",
            "821\n"
          ]
        }
      ]
    },
    {
      "cell_type": "code",
      "metadata": {
        "colab": {
          "base_uri": "https://localhost:8080/"
        },
        "id": "ZGrA7uUBVkmy",
        "outputId": "783c9dbf-c452-49cd-fa31-001668d63c3a"
      },
      "source": [
        "for k, v in supply_fourgrams.items():\n",
        "    print(len(v))"
      ],
      "execution_count": 22,
      "outputs": [
        {
          "output_type": "stream",
          "name": "stdout",
          "text": [
            "5\n",
            "21\n",
            "23\n"
          ]
        }
      ]
    },
    {
      "cell_type": "code",
      "metadata": {
        "colab": {
          "base_uri": "https://localhost:8080/",
          "height": 424
        },
        "id": "QMc8D5mKA_NL",
        "outputId": "ebcbdc4d-00b0-432d-8f28-0986e881173d"
      },
      "source": [
        "df_bigrams = pd.DataFrame({i : [' '.join(j[0]) for j in supply_bigrams[i][:150]] for i in supply_bigrams.keys()})\n",
        "df_bigrams"
      ],
      "execution_count": 37,
      "outputs": [
        {
          "output_type": "execute_result",
          "data": {
            "text/html": [
              "<div>\n",
              "<style scoped>\n",
              "    .dataframe tbody tr th:only-of-type {\n",
              "        vertical-align: middle;\n",
              "    }\n",
              "\n",
              "    .dataframe tbody tr th {\n",
              "        vertical-align: top;\n",
              "    }\n",
              "\n",
              "    .dataframe thead th {\n",
              "        text-align: right;\n",
              "    }\n",
              "</style>\n",
              "<table border=\"1\" class=\"dataframe\">\n",
              "  <thead>\n",
              "    <tr style=\"text-align: right;\">\n",
              "      <th></th>\n",
              "      <th>box</th>\n",
              "      <th>bone</th>\n",
              "      <th>bed</th>\n",
              "    </tr>\n",
              "  </thead>\n",
              "  <tbody>\n",
              "    <tr>\n",
              "      <th>0</th>\n",
              "      <td>litter box</td>\n",
              "      <td>this bone</td>\n",
              "      <td>the bed</td>\n",
              "    </tr>\n",
              "    <tr>\n",
              "      <th>1</th>\n",
              "      <td>the box</td>\n",
              "      <td>the bone</td>\n",
              "      <td>this bed</td>\n",
              "    </tr>\n",
              "    <tr>\n",
              "      <th>2</th>\n",
              "      <td>box and</td>\n",
              "      <td>these bone</td>\n",
              "      <td>bed and</td>\n",
              "    </tr>\n",
              "    <tr>\n",
              "      <th>3</th>\n",
              "      <td>box i</td>\n",
              "      <td>bone and</td>\n",
              "      <td>bed for</td>\n",
              "    </tr>\n",
              "    <tr>\n",
              "      <th>4</th>\n",
              "      <td>box is</td>\n",
              "      <td>bone i</td>\n",
              "      <td>dog bed</td>\n",
              "    </tr>\n",
              "    <tr>\n",
              "      <th>...</th>\n",
              "      <td>...</td>\n",
              "      <td>...</td>\n",
              "      <td>...</td>\n",
              "    </tr>\n",
              "    <tr>\n",
              "      <th>145</th>\n",
              "      <td>that box</td>\n",
              "      <td>bone though</td>\n",
              "      <td>bed soft</td>\n",
              "    </tr>\n",
              "    <tr>\n",
              "      <th>146</th>\n",
              "      <td>box fit</td>\n",
              "      <td>chewy bone</td>\n",
              "      <td>bed then</td>\n",
              "    </tr>\n",
              "    <tr>\n",
              "      <th>147</th>\n",
              "      <td>music box</td>\n",
              "      <td>souper bone</td>\n",
              "      <td>bed more</td>\n",
              "    </tr>\n",
              "    <tr>\n",
              "      <th>148</th>\n",
              "      <td>box our</td>\n",
              "      <td>softer bone</td>\n",
              "      <td>gravel bed</td>\n",
              "    </tr>\n",
              "    <tr>\n",
              "      <th>149</th>\n",
              "      <td>box clean</td>\n",
              "      <td>first bone</td>\n",
              "      <td>bed arrived</td>\n",
              "    </tr>\n",
              "  </tbody>\n",
              "</table>\n",
              "<p>150 rows × 3 columns</p>\n",
              "</div>"
            ],
            "text/plain": [
              "            box         bone          bed\n",
              "0    litter box    this bone      the bed\n",
              "1       the box     the bone     this bed\n",
              "2       box and   these bone      bed and\n",
              "3         box i     bone and      bed for\n",
              "4        box is       bone i      dog bed\n",
              "..          ...          ...          ...\n",
              "145    that box  bone though     bed soft\n",
              "146     box fit   chewy bone     bed then\n",
              "147   music box  souper bone     bed more\n",
              "148     box our  softer bone   gravel bed\n",
              "149   box clean   first bone  bed arrived\n",
              "\n",
              "[150 rows x 3 columns]"
            ]
          },
          "metadata": {},
          "execution_count": 37
        }
      ]
    },
    {
      "cell_type": "code",
      "metadata": {
        "colab": {
          "base_uri": "https://localhost:8080/",
          "height": 1000
        },
        "id": "qVggCueTWBnP",
        "outputId": "f85fa0bb-46fe-4708-d688-8d1414eb24c0"
      },
      "source": [
        "df_trigrams = pd.DataFrame({i : [' '.join(j[0]) for j in supply_trigrams[i][:52]] for i in supply_trigrams.keys()})\n",
        "df_trigrams"
      ],
      "execution_count": 26,
      "outputs": [
        {
          "output_type": "execute_result",
          "data": {
            "text/html": [
              "<div>\n",
              "<style scoped>\n",
              "    .dataframe tbody tr th:only-of-type {\n",
              "        vertical-align: middle;\n",
              "    }\n",
              "\n",
              "    .dataframe tbody tr th {\n",
              "        vertical-align: top;\n",
              "    }\n",
              "\n",
              "    .dataframe thead th {\n",
              "        text-align: right;\n",
              "    }\n",
              "</style>\n",
              "<table border=\"1\" class=\"dataframe\">\n",
              "  <thead>\n",
              "    <tr style=\"text-align: right;\">\n",
              "      <th></th>\n",
              "      <th>food container</th>\n",
              "      <th>cat bed</th>\n",
              "      <th>litter box</th>\n",
              "    </tr>\n",
              "  </thead>\n",
              "  <tbody>\n",
              "    <tr>\n",
              "      <th>0</th>\n",
              "      <td>the food container</td>\n",
              "      <td>a cat bed</td>\n",
              "      <td>the litter box</td>\n",
              "    </tr>\n",
              "    <tr>\n",
              "      <th>1</th>\n",
              "      <td>dog food container</td>\n",
              "      <td>cat bed i</td>\n",
              "      <td>litter box and</td>\n",
              "    </tr>\n",
              "    <tr>\n",
              "      <th>2</th>\n",
              "      <td>cat food container</td>\n",
              "      <td>the cat bed</td>\n",
              "      <td>this litter box</td>\n",
              "    </tr>\n",
              "    <tr>\n",
              "      <th>3</th>\n",
              "      <td>fish food container</td>\n",
              "      <td>this cat bed</td>\n",
              "      <td>litter box i</td>\n",
              "    </tr>\n",
              "    <tr>\n",
              "      <th>4</th>\n",
              "      <td>food container and</td>\n",
              "      <td>cat bed and</td>\n",
              "      <td>a litter box</td>\n",
              "    </tr>\n",
              "    <tr>\n",
              "      <th>5</th>\n",
              "      <td>food container in</td>\n",
              "      <td>nice cat bed</td>\n",
              "      <td>cat litter box</td>\n",
              "    </tr>\n",
              "    <tr>\n",
              "      <th>6</th>\n",
              "      <td>pet food container</td>\n",
              "      <td>cat bed is</td>\n",
              "      <td>litter box it</td>\n",
              "    </tr>\n",
              "    <tr>\n",
              "      <th>7</th>\n",
              "      <td>food container i</td>\n",
              "      <td>cat bed for</td>\n",
              "      <td>litter box for</td>\n",
              "    </tr>\n",
              "    <tr>\n",
              "      <th>8</th>\n",
              "      <td>food container can</td>\n",
              "      <td>cat bed it</td>\n",
              "      <td>litter box is</td>\n",
              "    </tr>\n",
              "    <tr>\n",
              "      <th>9</th>\n",
              "      <td>a food container</td>\n",
              "      <td>other cat bed</td>\n",
              "      <td>litter box the</td>\n",
              "    </tr>\n",
              "    <tr>\n",
              "      <th>10</th>\n",
              "      <td>food container that</td>\n",
              "      <td>small cat bed</td>\n",
              "      <td>litter box but</td>\n",
              "    </tr>\n",
              "    <tr>\n",
              "      <th>11</th>\n",
              "      <td>food container these</td>\n",
              "      <td>cat bed my</td>\n",
              "      <td>litter box in</td>\n",
              "    </tr>\n",
              "    <tr>\n",
              "      <th>12</th>\n",
              "      <td>food container but</td>\n",
              "      <td>cat bed just</td>\n",
              "      <td>litter box to</td>\n",
              "    </tr>\n",
              "    <tr>\n",
              "      <th>13</th>\n",
              "      <td>food container fish</td>\n",
              "      <td>cat bed a</td>\n",
              "      <td>litter box this</td>\n",
              "    </tr>\n",
              "    <tr>\n",
              "      <th>14</th>\n",
              "      <td>food container navy</td>\n",
              "      <td>his cat bed</td>\n",
              "      <td>litter box with</td>\n",
              "    </tr>\n",
              "    <tr>\n",
              "      <th>15</th>\n",
              "      <td>food container though</td>\n",
              "      <td>cat bed on</td>\n",
              "      <td>litter box that</td>\n",
              "    </tr>\n",
              "    <tr>\n",
              "      <th>16</th>\n",
              "      <td>food container to</td>\n",
              "      <td>great cat bed</td>\n",
              "      <td>litter box so</td>\n",
              "    </tr>\n",
              "    <tr>\n",
              "      <th>17</th>\n",
              "      <td>food container you</td>\n",
              "      <td>cat bed in</td>\n",
              "      <td>their litter box</td>\n",
              "    </tr>\n",
              "    <tr>\n",
              "      <th>18</th>\n",
              "      <td>food container from</td>\n",
              "      <td>cat bed to</td>\n",
              "      <td>litter box a</td>\n",
              "    </tr>\n",
              "    <tr>\n",
              "      <th>19</th>\n",
              "      <td>each food container</td>\n",
              "      <td>little cat bed</td>\n",
              "      <td>her litter box</td>\n",
              "    </tr>\n",
              "    <tr>\n",
              "      <th>20</th>\n",
              "      <td>there food container</td>\n",
              "      <td>elaborate cat bed</td>\n",
              "      <td>covered litter box</td>\n",
              "    </tr>\n",
              "    <tr>\n",
              "      <th>21</th>\n",
              "      <td>food container of</td>\n",
              "      <td>cat bed which</td>\n",
              "      <td>dome litter box</td>\n",
              "    </tr>\n",
              "    <tr>\n",
              "      <th>22</th>\n",
              "      <td>little food container</td>\n",
              "      <td>cat bed but</td>\n",
              "      <td>my litter box</td>\n",
              "    </tr>\n",
              "    <tr>\n",
              "      <th>23</th>\n",
              "      <td>into food container</td>\n",
              "      <td>cat bed instead</td>\n",
              "      <td>his litter box</td>\n",
              "    </tr>\n",
              "    <tr>\n",
              "      <th>24</th>\n",
              "      <td>food container which</td>\n",
              "      <td>the cat bedding</td>\n",
              "      <td>litter box we</td>\n",
              "    </tr>\n",
              "    <tr>\n",
              "      <th>25</th>\n",
              "      <td>food container is</td>\n",
              "      <td>barn cat bedding</td>\n",
              "      <td>regular litter box</td>\n",
              "    </tr>\n",
              "    <tr>\n",
              "      <th>26</th>\n",
              "      <td>food container easily</td>\n",
              "      <td>cat bedding and</td>\n",
              "      <td>litter box my</td>\n",
              "    </tr>\n",
              "    <tr>\n",
              "      <th>27</th>\n",
              "      <td>floor food container</td>\n",
              "      <td>and cat bedding</td>\n",
              "      <td>other litter box</td>\n",
              "    </tr>\n",
              "    <tr>\n",
              "      <th>28</th>\n",
              "      <td>food container a</td>\n",
              "      <td>cat bedding my</td>\n",
              "      <td>great litter box</td>\n",
              "    </tr>\n",
              "    <tr>\n",
              "      <th>29</th>\n",
              "      <td>my food container</td>\n",
              "      <td>fleece cat bed</td>\n",
              "      <td>of litter box</td>\n",
              "    </tr>\n",
              "    <tr>\n",
              "      <th>30</th>\n",
              "      <td>food container option</td>\n",
              "      <td>cat bed of</td>\n",
              "      <td>litter box when</td>\n",
              "    </tr>\n",
              "    <tr>\n",
              "      <th>31</th>\n",
              "      <td>food container off</td>\n",
              "      <td>sided cat bed</td>\n",
              "      <td>best litter box</td>\n",
              "    </tr>\n",
              "    <tr>\n",
              "      <th>32</th>\n",
              "      <td>plastic food container</td>\n",
              "      <td>cat bed before</td>\n",
              "      <td>litter box wa</td>\n",
              "    </tr>\n",
              "    <tr>\n",
              "      <th>33</th>\n",
              "      <td>food container yuck</td>\n",
              "      <td>cat bed silver</td>\n",
              "      <td>automatic litter box</td>\n",
              "    </tr>\n",
              "    <tr>\n",
              "      <th>34</th>\n",
              "      <td>big food container</td>\n",
              "      <td>heated cat bed</td>\n",
              "      <td>litter box because</td>\n",
              "    </tr>\n",
              "    <tr>\n",
              "      <th>35</th>\n",
              "      <td>food container like</td>\n",
              "      <td>outdoor cat bed</td>\n",
              "      <td>litter box work</td>\n",
              "    </tr>\n",
              "    <tr>\n",
              "      <th>36</th>\n",
              "      <td>new food container</td>\n",
              "      <td>cat bed one</td>\n",
              "      <td>large litter box</td>\n",
              "    </tr>\n",
              "    <tr>\n",
              "      <th>37</th>\n",
              "      <td>food container it</td>\n",
              "      <td>mounted cat bed</td>\n",
              "      <td>litter box odor</td>\n",
              "    </tr>\n",
              "    <tr>\n",
              "      <th>38</th>\n",
              "      <td>his food container</td>\n",
              "      <td>cushy cat bed</td>\n",
              "      <td>litter box at</td>\n",
              "    </tr>\n",
              "    <tr>\n",
              "      <th>39</th>\n",
              "      <td>food container being</td>\n",
              "      <td>cat bed by</td>\n",
              "      <td>litter box they</td>\n",
              "    </tr>\n",
              "    <tr>\n",
              "      <th>40</th>\n",
              "      <td>bunny food container</td>\n",
              "      <td>extra cat bed</td>\n",
              "      <td>litter box ha</td>\n",
              "    </tr>\n",
              "    <tr>\n",
              "      <th>41</th>\n",
              "      <td>food container ha</td>\n",
              "      <td>new cat bed</td>\n",
              "      <td>open litter box</td>\n",
              "    </tr>\n",
              "    <tr>\n",
              "      <th>42</th>\n",
              "      <td>food container neither</td>\n",
              "      <td>their cat bed</td>\n",
              "      <td>kitty litter box</td>\n",
              "    </tr>\n",
              "    <tr>\n",
              "      <th>43</th>\n",
              "      <td>food container hikari</td>\n",
              "      <td>cat bed section</td>\n",
              "      <td>these litter box</td>\n",
              "    </tr>\n",
              "    <tr>\n",
              "      <th>44</th>\n",
              "      <td>food container excellent</td>\n",
              "      <td>cat bed from</td>\n",
              "      <td>for litter box</td>\n",
              "    </tr>\n",
              "    <tr>\n",
              "      <th>45</th>\n",
              "      <td>food container quite</td>\n",
              "      <td>happy cat bed</td>\n",
              "      <td>rabbit litter box</td>\n",
              "    </tr>\n",
              "    <tr>\n",
              "      <th>46</th>\n",
              "      <td>food container hard</td>\n",
              "      <td>washable cat bed</td>\n",
              "      <td>clean litter box</td>\n",
              "    </tr>\n",
              "    <tr>\n",
              "      <th>47</th>\n",
              "      <td>food container good</td>\n",
              "      <td>cat bed whenever</td>\n",
              "      <td>two litter box</td>\n",
              "    </tr>\n",
              "    <tr>\n",
              "      <th>48</th>\n",
              "      <td>food container fit</td>\n",
              "      <td>priced cat bed</td>\n",
              "      <td>and litter box</td>\n",
              "    </tr>\n",
              "    <tr>\n",
              "      <th>49</th>\n",
              "      <td>food container easy</td>\n",
              "      <td>of cat bed</td>\n",
              "      <td>good litter box</td>\n",
              "    </tr>\n",
              "    <tr>\n",
              "      <th>50</th>\n",
              "      <td>food container just</td>\n",
              "      <td>cat bed because</td>\n",
              "      <td>bunny litter box</td>\n",
              "    </tr>\n",
              "    <tr>\n",
              "      <th>51</th>\n",
              "      <td>food container the</td>\n",
              "      <td>deeper cat bed</td>\n",
              "      <td>litter box smell</td>\n",
              "    </tr>\n",
              "  </tbody>\n",
              "</table>\n",
              "</div>"
            ],
            "text/plain": [
              "              food container            cat bed            litter box\n",
              "0         the food container          a cat bed        the litter box\n",
              "1         dog food container          cat bed i        litter box and\n",
              "2         cat food container        the cat bed       this litter box\n",
              "3        fish food container       this cat bed          litter box i\n",
              "4         food container and        cat bed and          a litter box\n",
              "5          food container in       nice cat bed        cat litter box\n",
              "6         pet food container         cat bed is         litter box it\n",
              "7           food container i        cat bed for        litter box for\n",
              "8         food container can         cat bed it         litter box is\n",
              "9           a food container      other cat bed        litter box the\n",
              "10       food container that      small cat bed        litter box but\n",
              "11      food container these         cat bed my         litter box in\n",
              "12        food container but       cat bed just         litter box to\n",
              "13       food container fish          cat bed a       litter box this\n",
              "14       food container navy        his cat bed       litter box with\n",
              "15     food container though         cat bed on       litter box that\n",
              "16         food container to      great cat bed         litter box so\n",
              "17        food container you         cat bed in      their litter box\n",
              "18       food container from         cat bed to          litter box a\n",
              "19       each food container     little cat bed        her litter box\n",
              "20      there food container  elaborate cat bed    covered litter box\n",
              "21         food container of      cat bed which       dome litter box\n",
              "22     little food container        cat bed but         my litter box\n",
              "23       into food container    cat bed instead        his litter box\n",
              "24      food container which    the cat bedding         litter box we\n",
              "25         food container is   barn cat bedding    regular litter box\n",
              "26     food container easily    cat bedding and         litter box my\n",
              "27      floor food container    and cat bedding      other litter box\n",
              "28          food container a     cat bedding my      great litter box\n",
              "29         my food container     fleece cat bed         of litter box\n",
              "30     food container option         cat bed of       litter box when\n",
              "31        food container off      sided cat bed       best litter box\n",
              "32    plastic food container     cat bed before         litter box wa\n",
              "33       food container yuck     cat bed silver  automatic litter box\n",
              "34        big food container     heated cat bed    litter box because\n",
              "35       food container like    outdoor cat bed       litter box work\n",
              "36        new food container        cat bed one      large litter box\n",
              "37         food container it    mounted cat bed       litter box odor\n",
              "38        his food container      cushy cat bed         litter box at\n",
              "39      food container being         cat bed by       litter box they\n",
              "40      bunny food container      extra cat bed         litter box ha\n",
              "41         food container ha        new cat bed       open litter box\n",
              "42    food container neither      their cat bed      kitty litter box\n",
              "43     food container hikari    cat bed section      these litter box\n",
              "44  food container excellent       cat bed from        for litter box\n",
              "45      food container quite      happy cat bed     rabbit litter box\n",
              "46       food container hard   washable cat bed      clean litter box\n",
              "47       food container good   cat bed whenever        two litter box\n",
              "48        food container fit     priced cat bed        and litter box\n",
              "49       food container easy         of cat bed       good litter box\n",
              "50       food container just    cat bed because      bunny litter box\n",
              "51        food container the     deeper cat bed      litter box smell"
            ]
          },
          "metadata": {},
          "execution_count": 26
        }
      ]
    },
    {
      "cell_type": "code",
      "metadata": {
        "colab": {
          "base_uri": "https://localhost:8080/",
          "height": 206
        },
        "id": "jyxp89TjWJNX",
        "outputId": "0d919d8b-7f36-4c89-e5ff-0ef0d045a815"
      },
      "source": [
        "df_fourgrams = pd.DataFrame({i : [' '.join(j[0]) for j in supply_fourgrams[i][:5]] for i in supply_fourgrams.keys()})\n",
        "df_fourgrams"
      ],
      "execution_count": 27,
      "outputs": [
        {
          "output_type": "execute_result",
          "data": {
            "text/html": [
              "<div>\n",
              "<style scoped>\n",
              "    .dataframe tbody tr th:only-of-type {\n",
              "        vertical-align: middle;\n",
              "    }\n",
              "\n",
              "    .dataframe tbody tr th {\n",
              "        vertical-align: top;\n",
              "    }\n",
              "\n",
              "    .dataframe thead th {\n",
              "        text-align: right;\n",
              "    }\n",
              "</style>\n",
              "<table border=\"1\" class=\"dataframe\">\n",
              "  <thead>\n",
              "    <tr style=\"text-align: right;\">\n",
              "      <th></th>\n",
              "      <th>box for cat</th>\n",
              "      <th>ball for dog</th>\n",
              "      <th>product for aquarium</th>\n",
              "    </tr>\n",
              "  </thead>\n",
              "  <tbody>\n",
              "    <tr>\n",
              "      <th>0</th>\n",
              "      <td>box for cat and</td>\n",
              "      <td>ball for dog that</td>\n",
              "      <td>good product for aquarium</td>\n",
              "    </tr>\n",
              "    <tr>\n",
              "      <th>1</th>\n",
              "      <td>the box for cat</td>\n",
              "      <td>tennis ball for dog</td>\n",
              "      <td>best product for aquarium</td>\n",
              "    </tr>\n",
              "    <tr>\n",
              "      <th>2</th>\n",
              "      <td>litter box for cat</td>\n",
              "      <td>ball for dog you</td>\n",
              "      <td>great product for aquarium</td>\n",
              "    </tr>\n",
              "    <tr>\n",
              "      <th>3</th>\n",
              "      <td>open box for cat</td>\n",
              "      <td>jolly ball for dog</td>\n",
              "      <td>product for aquarium maintenance</td>\n",
              "    </tr>\n",
              "    <tr>\n",
              "      <th>4</th>\n",
              "      <td>box for cat to</td>\n",
              "      <td>the ball for dog</td>\n",
              "      <td>product for aquarium water</td>\n",
              "    </tr>\n",
              "  </tbody>\n",
              "</table>\n",
              "</div>"
            ],
            "text/plain": [
              "          box for cat         ball for dog              product for aquarium\n",
              "0     box for cat and    ball for dog that         good product for aquarium\n",
              "1     the box for cat  tennis ball for dog         best product for aquarium\n",
              "2  litter box for cat     ball for dog you        great product for aquarium\n",
              "3    open box for cat   jolly ball for dog  product for aquarium maintenance\n",
              "4      box for cat to     the ball for dog        product for aquarium water"
            ]
          },
          "metadata": {},
          "execution_count": 27
        }
      ]
    },
    {
      "cell_type": "markdown",
      "metadata": {
        "id": "P16Ao3h5W8CO"
      },
      "source": [
        "С триграммами как-то не очень получилось, их рассматривать дальше не будем."
      ]
    },
    {
      "cell_type": "markdown",
      "metadata": {
        "id": "_9ZxIW51p7xf"
      },
      "source": [
        "### Задание 4.\n",
        "Ранжируйте n-граммы с помощью 3 коллокационных метрик (t-score, PMI и т.д.). Не забудьте про частотный фильтр / сглаживание. Выберите лучший результат (какая метрика ранжирует выше коллокации, подходящие для отчёта)."
      ]
    },
    {
      "cell_type": "markdown",
      "metadata": {
        "id": "_Yl-_HCNXCFM"
      },
      "source": [
        "#### Униграммы"
      ]
    },
    {
      "cell_type": "code",
      "metadata": {
        "id": "LeKPXKifXKjn"
      },
      "source": [
        "from nltk.collocations import *\n",
        "bigram_measures = nltk.collocations.BigramAssocMeasures()\n",
        "finder = BigramCollocationFinder.from_words(' '.join(smaller_df['clean_review']).split())\n",
        "finder.apply_freq_filter(10)"
      ],
      "execution_count": 30,
      "outputs": []
    },
    {
      "cell_type": "code",
      "metadata": {
        "id": "dLQnAFdFbwTE"
      },
      "source": [
        "for supply in supply_bigrams.keys():\n",
        "    lem = lemmatizer.lemmatize(supply)\n",
        "    rate = [i for i in finder.nbest(bigram_measures.pmi, 100000000000) if lem in i][:150]\n",
        "    df_bigrams[f'{lem}_pmi'] = [' '.join(i) for i in rate]"
      ],
      "execution_count": 63,
      "outputs": []
    },
    {
      "cell_type": "code",
      "metadata": {
        "id": "J6fc5oVTdv8L"
      },
      "source": [
        "for supply in supply_bigrams.keys():\n",
        "    lem = lemmatizer.lemmatize(supply)\n",
        "    rate = [i for i in finder.nbest(bigram_measures.student_t, 100000000000) if lem in i][:150]\n",
        "    df_bigrams[f'{lem}_tscore'] = [' '.join(i) for i in rate]"
      ],
      "execution_count": 64,
      "outputs": []
    },
    {
      "cell_type": "code",
      "metadata": {
        "id": "hUB41cucd5w1"
      },
      "source": [
        "for supply in supply_bigrams.keys():\n",
        "    lem = lemmatizer.lemmatize(supply)\n",
        "    rate = [i for i in finder.nbest(bigram_measures.dice, 100000000000) if lem in i][:150]\n",
        "    df_bigrams[f'{lem}_dice'] = [' '.join(i) for i in rate]"
      ],
      "execution_count": 62,
      "outputs": []
    },
    {
      "cell_type": "code",
      "metadata": {
        "colab": {
          "base_uri": "https://localhost:8080/",
          "height": 597
        },
        "id": "TiQ1Vk4Sf4tm",
        "outputId": "9d72cf67-879a-4034-80bc-4ea4bb984254"
      },
      "source": [
        "df_bigrams"
      ],
      "execution_count": 72,
      "outputs": [
        {
          "output_type": "execute_result",
          "data": {
            "text/html": [
              "<div>\n",
              "<style scoped>\n",
              "    .dataframe tbody tr th:only-of-type {\n",
              "        vertical-align: middle;\n",
              "    }\n",
              "\n",
              "    .dataframe tbody tr th {\n",
              "        vertical-align: top;\n",
              "    }\n",
              "\n",
              "    .dataframe thead th {\n",
              "        text-align: right;\n",
              "    }\n",
              "</style>\n",
              "<table border=\"1\" class=\"dataframe\">\n",
              "  <thead>\n",
              "    <tr style=\"text-align: right;\">\n",
              "      <th></th>\n",
              "      <th>box</th>\n",
              "      <th>bone</th>\n",
              "      <th>bed</th>\n",
              "      <th>box_pmi</th>\n",
              "      <th>bone_pmi</th>\n",
              "      <th>bed_pmi</th>\n",
              "      <th>box_tscore</th>\n",
              "      <th>bone_tscore</th>\n",
              "      <th>bed_tscore</th>\n",
              "      <th>box_dice</th>\n",
              "      <th>bone_dice</th>\n",
              "      <th>bed_dice</th>\n",
              "    </tr>\n",
              "  </thead>\n",
              "  <tbody>\n",
              "    <tr>\n",
              "      <th>0</th>\n",
              "      <td>litter box</td>\n",
              "      <td>this bone</td>\n",
              "      <td>the bed</td>\n",
              "      <td>voice box</td>\n",
              "      <td>cuttle bone</td>\n",
              "      <td>kuranda bed</td>\n",
              "      <td>litter box</td>\n",
              "      <td>this bone</td>\n",
              "      <td>this bed</td>\n",
              "      <td>litter box</td>\n",
              "      <td>edible bone</td>\n",
              "      <td>pet bed</td>\n",
              "    </tr>\n",
              "    <tr>\n",
              "      <th>1</th>\n",
              "      <td>the box</td>\n",
              "      <td>the bone</td>\n",
              "      <td>this bed</td>\n",
              "      <td>littler box</td>\n",
              "      <td>nyla bone</td>\n",
              "      <td>orthopedic bed</td>\n",
              "      <td>the box</td>\n",
              "      <td>these bone</td>\n",
              "      <td>the bed</td>\n",
              "      <td>big box</td>\n",
              "      <td>these bone</td>\n",
              "      <td>fleece bed</td>\n",
              "    </tr>\n",
              "    <tr>\n",
              "      <th>2</th>\n",
              "      <td>box and</td>\n",
              "      <td>these bone</td>\n",
              "      <td>bed and</td>\n",
              "      <td>litter box</td>\n",
              "      <td>marrow bone</td>\n",
              "      <td>flower bed</td>\n",
              "      <td>box and</td>\n",
              "      <td>the bone</td>\n",
              "      <td>pet bed</td>\n",
              "      <td>the box</td>\n",
              "      <td>milk bone</td>\n",
              "      <td>his bed</td>\n",
              "    </tr>\n",
              "    <tr>\n",
              "      <th>3</th>\n",
              "      <td>box i</td>\n",
              "      <td>bone and</td>\n",
              "      <td>bed for</td>\n",
              "      <td>nesting box</td>\n",
              "      <td>goodie bone</td>\n",
              "      <td>bolster bed</td>\n",
              "      <td>box i</td>\n",
              "      <td>chew bone</td>\n",
              "      <td>dog bed</td>\n",
              "      <td>cardboard box</td>\n",
              "      <td>chew bone</td>\n",
              "      <td>bed fit</td>\n",
              "    </tr>\n",
              "    <tr>\n",
              "      <th>4</th>\n",
              "      <td>box is</td>\n",
              "      <td>bone i</td>\n",
              "      <td>dog bed</td>\n",
              "      <td>uncovered box</td>\n",
              "      <td>bone repairing</td>\n",
              "      <td>cuddly bed</td>\n",
              "      <td>big box</td>\n",
              "      <td>bone and</td>\n",
              "      <td>bed for</td>\n",
              "      <td>box store</td>\n",
              "      <td>nyla bone</td>\n",
              "      <td>crate bed</td>\n",
              "    </tr>\n",
              "    <tr>\n",
              "      <th>...</th>\n",
              "      <td>...</td>\n",
              "      <td>...</td>\n",
              "      <td>...</td>\n",
              "      <td>...</td>\n",
              "      <td>...</td>\n",
              "      <td>...</td>\n",
              "      <td>...</td>\n",
              "      <td>...</td>\n",
              "      <td>...</td>\n",
              "      <td>...</td>\n",
              "      <td>...</td>\n",
              "      <td>...</td>\n",
              "    </tr>\n",
              "    <tr>\n",
              "      <th>145</th>\n",
              "      <td>that box</td>\n",
              "      <td>bone though</td>\n",
              "      <td>bed soft</td>\n",
              "      <td>filter box</td>\n",
              "      <td>different bone</td>\n",
              "      <td>bed crate</td>\n",
              "      <td>flat box</td>\n",
              "      <td>same bone</td>\n",
              "      <td>bed into</td>\n",
              "      <td>box filter</td>\n",
              "      <td>bone seems</td>\n",
              "      <td>bed it</td>\n",
              "    </tr>\n",
              "    <tr>\n",
              "      <th>146</th>\n",
              "      <td>box fit</td>\n",
              "      <td>chewy bone</td>\n",
              "      <td>bed then</td>\n",
              "      <td>box also</td>\n",
              "      <td>smaller bone</td>\n",
              "      <td>small bed</td>\n",
              "      <td>original box</td>\n",
              "      <td>bone left</td>\n",
              "      <td>bed once</td>\n",
              "      <td>receptacle box</td>\n",
              "      <td>same bone</td>\n",
              "      <td>best bed</td>\n",
              "    </tr>\n",
              "    <tr>\n",
              "      <th>147</th>\n",
              "      <td>music box</td>\n",
              "      <td>souper bone</td>\n",
              "      <td>bed more</td>\n",
              "      <td>box say</td>\n",
              "      <td>good bone</td>\n",
              "      <td>bed were</td>\n",
              "      <td>normal box</td>\n",
              "      <td>bone almost</td>\n",
              "      <td>small bed</td>\n",
              "      <td>breeding box</td>\n",
              "      <td>bone even</td>\n",
              "      <td>bed into</td>\n",
              "    </tr>\n",
              "    <tr>\n",
              "      <th>148</th>\n",
              "      <td>box our</td>\n",
              "      <td>softer bone</td>\n",
              "      <td>gravel bed</td>\n",
              "      <td>box there</td>\n",
              "      <td>bone seems</td>\n",
              "      <td>big bed</td>\n",
              "      <td>tiny box</td>\n",
              "      <td>bone seems</td>\n",
              "      <td>good bed</td>\n",
              "      <td>box fit</td>\n",
              "      <td>bone out</td>\n",
              "      <td>small bed</td>\n",
              "    </tr>\n",
              "    <tr>\n",
              "      <th>149</th>\n",
              "      <td>box clean</td>\n",
              "      <td>first bone</td>\n",
              "      <td>bed arrived</td>\n",
              "      <td>sturdy box</td>\n",
              "      <td>most bone</td>\n",
              "      <td>bed my</td>\n",
              "      <td>previous box</td>\n",
              "      <td>strong bone</td>\n",
              "      <td>bed to</td>\n",
              "      <td>automatic box</td>\n",
              "      <td>bone almost</td>\n",
              "      <td>bed just</td>\n",
              "    </tr>\n",
              "  </tbody>\n",
              "</table>\n",
              "<p>150 rows × 12 columns</p>\n",
              "</div>"
            ],
            "text/plain": [
              "            box         bone  ...    bone_dice    bed_dice\n",
              "0    litter box    this bone  ...  edible bone     pet bed\n",
              "1       the box     the bone  ...   these bone  fleece bed\n",
              "2       box and   these bone  ...    milk bone     his bed\n",
              "3         box i     bone and  ...    chew bone     bed fit\n",
              "4        box is       bone i  ...    nyla bone   crate bed\n",
              "..          ...          ...  ...          ...         ...\n",
              "145    that box  bone though  ...   bone seems      bed it\n",
              "146     box fit   chewy bone  ...    same bone    best bed\n",
              "147   music box  souper bone  ...    bone even    bed into\n",
              "148     box our  softer bone  ...     bone out   small bed\n",
              "149   box clean   first bone  ...  bone almost    bed just\n",
              "\n",
              "[150 rows x 12 columns]"
            ]
          },
          "metadata": {},
          "execution_count": 72
        }
      ]
    },
    {
      "cell_type": "markdown",
      "metadata": {
        "id": "FCqww3H3gNvC"
      },
      "source": [
        "Выведем 10 лучших по каждому критерию"
      ]
    },
    {
      "cell_type": "code",
      "metadata": {
        "colab": {
          "base_uri": "https://localhost:8080/",
          "height": 363
        },
        "id": "O5oUivI9gZ64",
        "outputId": "26ff486a-738f-493f-c276-4f055d8d40fb"
      },
      "source": [
        "df_bigrams.iloc[:10,3:]"
      ],
      "execution_count": 73,
      "outputs": [
        {
          "output_type": "execute_result",
          "data": {
            "text/html": [
              "<div>\n",
              "<style scoped>\n",
              "    .dataframe tbody tr th:only-of-type {\n",
              "        vertical-align: middle;\n",
              "    }\n",
              "\n",
              "    .dataframe tbody tr th {\n",
              "        vertical-align: top;\n",
              "    }\n",
              "\n",
              "    .dataframe thead th {\n",
              "        text-align: right;\n",
              "    }\n",
              "</style>\n",
              "<table border=\"1\" class=\"dataframe\">\n",
              "  <thead>\n",
              "    <tr style=\"text-align: right;\">\n",
              "      <th></th>\n",
              "      <th>box_pmi</th>\n",
              "      <th>bone_pmi</th>\n",
              "      <th>bed_pmi</th>\n",
              "      <th>box_tscore</th>\n",
              "      <th>bone_tscore</th>\n",
              "      <th>bed_tscore</th>\n",
              "      <th>box_dice</th>\n",
              "      <th>bone_dice</th>\n",
              "      <th>bed_dice</th>\n",
              "    </tr>\n",
              "  </thead>\n",
              "  <tbody>\n",
              "    <tr>\n",
              "      <th>0</th>\n",
              "      <td>voice box</td>\n",
              "      <td>cuttle bone</td>\n",
              "      <td>kuranda bed</td>\n",
              "      <td>litter box</td>\n",
              "      <td>this bone</td>\n",
              "      <td>this bed</td>\n",
              "      <td>litter box</td>\n",
              "      <td>edible bone</td>\n",
              "      <td>pet bed</td>\n",
              "    </tr>\n",
              "    <tr>\n",
              "      <th>1</th>\n",
              "      <td>littler box</td>\n",
              "      <td>nyla bone</td>\n",
              "      <td>orthopedic bed</td>\n",
              "      <td>the box</td>\n",
              "      <td>these bone</td>\n",
              "      <td>the bed</td>\n",
              "      <td>big box</td>\n",
              "      <td>these bone</td>\n",
              "      <td>fleece bed</td>\n",
              "    </tr>\n",
              "    <tr>\n",
              "      <th>2</th>\n",
              "      <td>litter box</td>\n",
              "      <td>marrow bone</td>\n",
              "      <td>flower bed</td>\n",
              "      <td>box and</td>\n",
              "      <td>the bone</td>\n",
              "      <td>pet bed</td>\n",
              "      <td>the box</td>\n",
              "      <td>milk bone</td>\n",
              "      <td>his bed</td>\n",
              "    </tr>\n",
              "    <tr>\n",
              "      <th>3</th>\n",
              "      <td>nesting box</td>\n",
              "      <td>goodie bone</td>\n",
              "      <td>bolster bed</td>\n",
              "      <td>box i</td>\n",
              "      <td>chew bone</td>\n",
              "      <td>dog bed</td>\n",
              "      <td>cardboard box</td>\n",
              "      <td>chew bone</td>\n",
              "      <td>bed fit</td>\n",
              "    </tr>\n",
              "    <tr>\n",
              "      <th>4</th>\n",
              "      <td>uncovered box</td>\n",
              "      <td>bone repairing</td>\n",
              "      <td>cuddly bed</td>\n",
              "      <td>big box</td>\n",
              "      <td>bone and</td>\n",
              "      <td>bed for</td>\n",
              "      <td>box store</td>\n",
              "      <td>nyla bone</td>\n",
              "      <td>crate bed</td>\n",
              "    </tr>\n",
              "    <tr>\n",
              "      <th>5</th>\n",
              "      <td>liter box</td>\n",
              "      <td>galileo bone</td>\n",
              "      <td>fleece bed</td>\n",
              "      <td>box is</td>\n",
              "      <td>bone is</td>\n",
              "      <td>bed is</td>\n",
              "      <td>voice box</td>\n",
              "      <td>real bone</td>\n",
              "      <td>travel bed</td>\n",
              "    </tr>\n",
              "    <tr>\n",
              "      <th>6</th>\n",
              "      <td>hooded box</td>\n",
              "      <td>flexichew bone</td>\n",
              "      <td>comfy bed</td>\n",
              "      <td>cat box</td>\n",
              "      <td>bone for</td>\n",
              "      <td>bed and</td>\n",
              "      <td>cat box</td>\n",
              "      <td>bone shaped</td>\n",
              "      <td>this bed</td>\n",
              "    </tr>\n",
              "    <tr>\n",
              "      <th>7</th>\n",
              "      <td>music box</td>\n",
              "      <td>knuckle bone</td>\n",
              "      <td>travel bed</td>\n",
              "      <td>this box</td>\n",
              "      <td>edible bone</td>\n",
              "      <td>his bed</td>\n",
              "      <td>liter box</td>\n",
              "      <td>rawhide bone</td>\n",
              "      <td>before bed</td>\n",
              "    </tr>\n",
              "    <tr>\n",
              "      <th>8</th>\n",
              "      <td>nest box</td>\n",
              "      <td>durachew bone</td>\n",
              "      <td>cozy bed</td>\n",
              "      <td>box but</td>\n",
              "      <td>bone are</td>\n",
              "      <td>her bed</td>\n",
              "      <td>sound box</td>\n",
              "      <td>white bone</td>\n",
              "      <td>nice bed</td>\n",
              "    </tr>\n",
              "    <tr>\n",
              "      <th>9</th>\n",
              "      <td>rectangular box</td>\n",
              "      <td>chilly bone</td>\n",
              "      <td>bed sheet</td>\n",
              "      <td>box with</td>\n",
              "      <td>bone but</td>\n",
              "      <td>bed i</td>\n",
              "      <td>shipping box</td>\n",
              "      <td>flavored bone</td>\n",
              "      <td>her bed</td>\n",
              "    </tr>\n",
              "  </tbody>\n",
              "</table>\n",
              "</div>"
            ],
            "text/plain": [
              "           box_pmi        bone_pmi  ...      bone_dice    bed_dice\n",
              "0        voice box     cuttle bone  ...    edible bone     pet bed\n",
              "1      littler box       nyla bone  ...     these bone  fleece bed\n",
              "2       litter box     marrow bone  ...      milk bone     his bed\n",
              "3      nesting box     goodie bone  ...      chew bone     bed fit\n",
              "4    uncovered box  bone repairing  ...      nyla bone   crate bed\n",
              "5        liter box    galileo bone  ...      real bone  travel bed\n",
              "6       hooded box  flexichew bone  ...    bone shaped    this bed\n",
              "7        music box    knuckle bone  ...   rawhide bone  before bed\n",
              "8         nest box   durachew bone  ...     white bone    nice bed\n",
              "9  rectangular box     chilly bone  ...  flavored bone     her bed\n",
              "\n",
              "[10 rows x 9 columns]"
            ]
          },
          "metadata": {},
          "execution_count": 73
        }
      ]
    },
    {
      "cell_type": "markdown",
      "metadata": {
        "id": "rPokj3pilE6o"
      },
      "source": [
        "#### Биграммы"
      ]
    },
    {
      "cell_type": "code",
      "metadata": {
        "id": "fepVjMcvlZ1T"
      },
      "source": [
        "trigram_measures = nltk.collocations.TrigramAssocMeasures()\n",
        "finder = TrigramCollocationFinder.from_words(' '.join(smaller_df['clean_review']).split())\n",
        "finder.apply_freq_filter(5)"
      ],
      "execution_count": 87,
      "outputs": []
    },
    {
      "cell_type": "code",
      "metadata": {
        "id": "QEfj0s3AonVD"
      },
      "source": [
        "df_trigrams = df_trigrams[:8]"
      ],
      "execution_count": 89,
      "outputs": []
    },
    {
      "cell_type": "code",
      "metadata": {
        "colab": {
          "base_uri": "https://localhost:8080/"
        },
        "id": "HulHj_n0ljKM",
        "outputId": "a9d27fc3-998f-4aff-f225-e5f3460d6ee3"
      },
      "source": [
        "for supply in supply_trigrams.keys():\n",
        "    rate = [i for i in finder.nbest(trigram_measures.pmi, 100000000000) if supply in ' '.join(i)][:8]\n",
        "    df_trigrams[f'{supply}_pmi'] = [' '.join(i) for i in rate]"
      ],
      "execution_count": 93,
      "outputs": [
        {
          "output_type": "stream",
          "name": "stderr",
          "text": [
            "/usr/local/lib/python3.7/dist-packages/ipykernel_launcher.py:3: SettingWithCopyWarning: \n",
            "A value is trying to be set on a copy of a slice from a DataFrame.\n",
            "Try using .loc[row_indexer,col_indexer] = value instead\n",
            "\n",
            "See the caveats in the documentation: https://pandas.pydata.org/pandas-docs/stable/user_guide/indexing.html#returning-a-view-versus-a-copy\n",
            "  This is separate from the ipykernel package so we can avoid doing imports until\n"
          ]
        }
      ]
    },
    {
      "cell_type": "code",
      "metadata": {
        "colab": {
          "base_uri": "https://localhost:8080/"
        },
        "id": "6QIXkAaVln5W",
        "outputId": "0de8f880-2fd8-49d5-9a1b-f8246c0ae306"
      },
      "source": [
        "for supply in supply_trigrams.keys():\n",
        "    rate = [i for i in finder.nbest(trigram_measures.student_t, 100000000000) if supply in ' '.join(i)][:8]\n",
        "    df_trigrams[f'{supply}_tscore'] = [' '.join(i) for i in rate]"
      ],
      "execution_count": 97,
      "outputs": [
        {
          "output_type": "stream",
          "name": "stderr",
          "text": [
            "/usr/local/lib/python3.7/dist-packages/ipykernel_launcher.py:3: SettingWithCopyWarning: \n",
            "A value is trying to be set on a copy of a slice from a DataFrame.\n",
            "Try using .loc[row_indexer,col_indexer] = value instead\n",
            "\n",
            "See the caveats in the documentation: https://pandas.pydata.org/pandas-docs/stable/user_guide/indexing.html#returning-a-view-versus-a-copy\n",
            "  This is separate from the ipykernel package so we can avoid doing imports until\n"
          ]
        }
      ]
    },
    {
      "cell_type": "markdown",
      "metadata": {
        "id": "0mBFMZEppid1"
      },
      "source": [
        "Для триграмм в [nltk](https://tedboy.github.io/nlps/generated/generated/nltk.TrigramAssocMeasures.html#nltk.TrigramAssocMeasures) нет метода Dice, поэтому возьмём Jaccard."
      ]
    },
    {
      "cell_type": "code",
      "metadata": {
        "colab": {
          "base_uri": "https://localhost:8080/"
        },
        "id": "1F2sMhhypFWi",
        "outputId": "1609b26d-6228-415b-d69c-2f623b4ca3d2"
      },
      "source": [
        "for supply in supply_trigrams.keys():\n",
        "    rate = [i for i in finder.nbest(trigram_measures.jaccard, 100000000000) if supply in ' '.join(i)][:8]\n",
        "    df_trigrams[f'{supply}_jaccard'] = [' '.join(i) for i in rate]"
      ],
      "execution_count": 98,
      "outputs": [
        {
          "output_type": "stream",
          "name": "stderr",
          "text": [
            "/usr/local/lib/python3.7/dist-packages/ipykernel_launcher.py:3: SettingWithCopyWarning: \n",
            "A value is trying to be set on a copy of a slice from a DataFrame.\n",
            "Try using .loc[row_indexer,col_indexer] = value instead\n",
            "\n",
            "See the caveats in the documentation: https://pandas.pydata.org/pandas-docs/stable/user_guide/indexing.html#returning-a-view-versus-a-copy\n",
            "  This is separate from the ipykernel package so we can avoid doing imports until\n"
          ]
        }
      ]
    },
    {
      "cell_type": "code",
      "metadata": {
        "colab": {
          "base_uri": "https://localhost:8080/",
          "height": 615
        },
        "id": "Gb3k8aXhqArR",
        "outputId": "ed05a813-925b-4b6a-d773-32a3f03b8996"
      },
      "source": [
        "df_trigrams"
      ],
      "execution_count": 99,
      "outputs": [
        {
          "output_type": "execute_result",
          "data": {
            "text/html": [
              "<div>\n",
              "<style scoped>\n",
              "    .dataframe tbody tr th:only-of-type {\n",
              "        vertical-align: middle;\n",
              "    }\n",
              "\n",
              "    .dataframe tbody tr th {\n",
              "        vertical-align: top;\n",
              "    }\n",
              "\n",
              "    .dataframe thead th {\n",
              "        text-align: right;\n",
              "    }\n",
              "</style>\n",
              "<table border=\"1\" class=\"dataframe\">\n",
              "  <thead>\n",
              "    <tr style=\"text-align: right;\">\n",
              "      <th></th>\n",
              "      <th>food container</th>\n",
              "      <th>cat bed</th>\n",
              "      <th>litter box</th>\n",
              "      <th>food container_pmi</th>\n",
              "      <th>cat bed_pmi</th>\n",
              "      <th>litter box_pmi</th>\n",
              "      <th>food container_tscore</th>\n",
              "      <th>cat bed_tscore</th>\n",
              "      <th>litter box_tscore</th>\n",
              "      <th>food container_jaccard</th>\n",
              "      <th>cat bed_jaccard</th>\n",
              "      <th>litter box_jaccard</th>\n",
              "    </tr>\n",
              "  </thead>\n",
              "  <tbody>\n",
              "    <tr>\n",
              "      <th>0</th>\n",
              "      <td>the food container</td>\n",
              "      <td>a cat bed</td>\n",
              "      <td>the litter box</td>\n",
              "      <td>fish food container</td>\n",
              "      <td>nice cat bed</td>\n",
              "      <td>hooded litter box</td>\n",
              "      <td>the food container</td>\n",
              "      <td>a cat bed</td>\n",
              "      <td>the litter box</td>\n",
              "      <td>fish food container</td>\n",
              "      <td>nice cat bed</td>\n",
              "      <td>cat litter box</td>\n",
              "    </tr>\n",
              "    <tr>\n",
              "      <th>1</th>\n",
              "      <td>dog food container</td>\n",
              "      <td>cat bed i</td>\n",
              "      <td>litter box and</td>\n",
              "      <td>pet food container</td>\n",
              "      <td>small cat bed</td>\n",
              "      <td>litter box avoidance</td>\n",
              "      <td>dog food container</td>\n",
              "      <td>this cat bed</td>\n",
              "      <td>litter box and</td>\n",
              "      <td>cat food container</td>\n",
              "      <td>small cat bed</td>\n",
              "      <td>covered litter box</td>\n",
              "    </tr>\n",
              "    <tr>\n",
              "      <th>2</th>\n",
              "      <td>cat food container</td>\n",
              "      <td>the cat bed</td>\n",
              "      <td>this litter box</td>\n",
              "      <td>cat food container</td>\n",
              "      <td>other cat bed</td>\n",
              "      <td>automatic litter box</td>\n",
              "      <td>cat food container</td>\n",
              "      <td>cat bed i</td>\n",
              "      <td>this litter box</td>\n",
              "      <td>pet food container</td>\n",
              "      <td>other cat bed</td>\n",
              "      <td>dome litter box</td>\n",
              "    </tr>\n",
              "    <tr>\n",
              "      <th>3</th>\n",
              "      <td>fish food container</td>\n",
              "      <td>this cat bed</td>\n",
              "      <td>litter box i</td>\n",
              "      <td>dog food container</td>\n",
              "      <td>cat bed just</td>\n",
              "      <td>uncovered litter box</td>\n",
              "      <td>fish food container</td>\n",
              "      <td>nice cat bed</td>\n",
              "      <td>litter box i</td>\n",
              "      <td>dog food container</td>\n",
              "      <td>cat bed just</td>\n",
              "      <td>the litter box</td>\n",
              "    </tr>\n",
              "    <tr>\n",
              "      <th>4</th>\n",
              "      <td>food container and</td>\n",
              "      <td>cat bed and</td>\n",
              "      <td>a litter box</td>\n",
              "      <td>food container in</td>\n",
              "      <td>this cat bed</td>\n",
              "      <td>sifting litter box</td>\n",
              "      <td>food container and</td>\n",
              "      <td>cat bed is</td>\n",
              "      <td>a litter box</td>\n",
              "      <td>food container in</td>\n",
              "      <td>this cat bed</td>\n",
              "      <td>this litter box</td>\n",
              "    </tr>\n",
              "    <tr>\n",
              "      <th>5</th>\n",
              "      <td>food container in</td>\n",
              "      <td>nice cat bed</td>\n",
              "      <td>cat litter box</td>\n",
              "      <td>the food container</td>\n",
              "      <td>cat bed is</td>\n",
              "      <td>dome litter box</td>\n",
              "      <td>pet food container</td>\n",
              "      <td>the cat bed</td>\n",
              "      <td>cat litter box</td>\n",
              "      <td>the food container</td>\n",
              "      <td>a cat bed</td>\n",
              "      <td>regular litter box</td>\n",
              "    </tr>\n",
              "    <tr>\n",
              "      <th>6</th>\n",
              "      <td>pet food container</td>\n",
              "      <td>cat bed is</td>\n",
              "      <td>litter box it</td>\n",
              "      <td>food container and</td>\n",
              "      <td>a cat bed</td>\n",
              "      <td>covered litter box</td>\n",
              "      <td>food container in</td>\n",
              "      <td>small cat bed</td>\n",
              "      <td>litter box it</td>\n",
              "      <td>food container and</td>\n",
              "      <td>cat bed is</td>\n",
              "      <td>their litter box</td>\n",
              "    </tr>\n",
              "    <tr>\n",
              "      <th>7</th>\n",
              "      <td>food container i</td>\n",
              "      <td>cat bed for</td>\n",
              "      <td>litter box for</td>\n",
              "      <td>food container i</td>\n",
              "      <td>cat bed for</td>\n",
              "      <td>enclosed litter box</td>\n",
              "      <td>food container i</td>\n",
              "      <td>other cat bed</td>\n",
              "      <td>litter box for</td>\n",
              "      <td>food container i</td>\n",
              "      <td>cat bed i</td>\n",
              "      <td>automatic litter box</td>\n",
              "    </tr>\n",
              "  </tbody>\n",
              "</table>\n",
              "</div>"
            ],
            "text/plain": [
              "        food container       cat bed  ... cat bed_jaccard    litter box_jaccard\n",
              "0   the food container     a cat bed  ...    nice cat bed        cat litter box\n",
              "1   dog food container     cat bed i  ...   small cat bed    covered litter box\n",
              "2   cat food container   the cat bed  ...   other cat bed       dome litter box\n",
              "3  fish food container  this cat bed  ...    cat bed just        the litter box\n",
              "4   food container and   cat bed and  ...    this cat bed       this litter box\n",
              "5    food container in  nice cat bed  ...       a cat bed    regular litter box\n",
              "6   pet food container    cat bed is  ...      cat bed is      their litter box\n",
              "7     food container i   cat bed for  ...       cat bed i  automatic litter box\n",
              "\n",
              "[8 rows x 12 columns]"
            ]
          },
          "metadata": {},
          "execution_count": 99
        }
      ]
    },
    {
      "cell_type": "markdown",
      "metadata": {
        "id": "2hI_NA_Wp9Bz"
      },
      "source": [
        "### Задание 5.\n",
        " Сгруппируйте полученные коллокации по NE, выведите примеры для 5 товаров."
      ]
    },
    {
      "cell_type": "markdown",
      "metadata": {
        "id": "aTjYlgUjk65u"
      },
      "source": [
        "#### Биграммы для униграмм"
      ]
    },
    {
      "cell_type": "markdown",
      "metadata": {
        "id": "PIYtaTQPjSIJ"
      },
      "source": [
        "На первый взгляд PMI справляется лучше остальных. Вряд ли нам нужны биграммы NE + правый сосед. Давайте выведем побольше биграмм, отранжированных PMI, но только с левым соседом."
      ]
    },
    {
      "cell_type": "code",
      "metadata": {
        "colab": {
          "base_uri": "https://localhost:8080/",
          "height": 832
        },
        "id": "yjAdcaQJkt6T",
        "outputId": "7e98c20c-d1b7-4fe2-83c8-ed743a4de746"
      },
      "source": [
        "df_bigrams.iloc[:25,3:6]"
      ],
      "execution_count": 74,
      "outputs": [
        {
          "output_type": "execute_result",
          "data": {
            "text/html": [
              "<div>\n",
              "<style scoped>\n",
              "    .dataframe tbody tr th:only-of-type {\n",
              "        vertical-align: middle;\n",
              "    }\n",
              "\n",
              "    .dataframe tbody tr th {\n",
              "        vertical-align: top;\n",
              "    }\n",
              "\n",
              "    .dataframe thead th {\n",
              "        text-align: right;\n",
              "    }\n",
              "</style>\n",
              "<table border=\"1\" class=\"dataframe\">\n",
              "  <thead>\n",
              "    <tr style=\"text-align: right;\">\n",
              "      <th></th>\n",
              "      <th>box_pmi</th>\n",
              "      <th>bone_pmi</th>\n",
              "      <th>bed_pmi</th>\n",
              "    </tr>\n",
              "  </thead>\n",
              "  <tbody>\n",
              "    <tr>\n",
              "      <th>0</th>\n",
              "      <td>voice box</td>\n",
              "      <td>cuttle bone</td>\n",
              "      <td>kuranda bed</td>\n",
              "    </tr>\n",
              "    <tr>\n",
              "      <th>1</th>\n",
              "      <td>littler box</td>\n",
              "      <td>nyla bone</td>\n",
              "      <td>orthopedic bed</td>\n",
              "    </tr>\n",
              "    <tr>\n",
              "      <th>2</th>\n",
              "      <td>litter box</td>\n",
              "      <td>marrow bone</td>\n",
              "      <td>flower bed</td>\n",
              "    </tr>\n",
              "    <tr>\n",
              "      <th>3</th>\n",
              "      <td>nesting box</td>\n",
              "      <td>goodie bone</td>\n",
              "      <td>bolster bed</td>\n",
              "    </tr>\n",
              "    <tr>\n",
              "      <th>4</th>\n",
              "      <td>uncovered box</td>\n",
              "      <td>bone repairing</td>\n",
              "      <td>cuddly bed</td>\n",
              "    </tr>\n",
              "    <tr>\n",
              "      <th>5</th>\n",
              "      <td>liter box</td>\n",
              "      <td>galileo bone</td>\n",
              "      <td>fleece bed</td>\n",
              "    </tr>\n",
              "    <tr>\n",
              "      <th>6</th>\n",
              "      <td>hooded box</td>\n",
              "      <td>flexichew bone</td>\n",
              "      <td>comfy bed</td>\n",
              "    </tr>\n",
              "    <tr>\n",
              "      <th>7</th>\n",
              "      <td>music box</td>\n",
              "      <td>knuckle bone</td>\n",
              "      <td>travel bed</td>\n",
              "    </tr>\n",
              "    <tr>\n",
              "      <th>8</th>\n",
              "      <td>nest box</td>\n",
              "      <td>durachew bone</td>\n",
              "      <td>cozy bed</td>\n",
              "    </tr>\n",
              "    <tr>\n",
              "      <th>9</th>\n",
              "      <td>rectangular box</td>\n",
              "      <td>chilly bone</td>\n",
              "      <td>bed sheet</td>\n",
              "    </tr>\n",
              "    <tr>\n",
              "      <th>10</th>\n",
              "      <td>cardboard box</td>\n",
              "      <td>edible bone</td>\n",
              "      <td>pet bed</td>\n",
              "    </tr>\n",
              "    <tr>\n",
              "      <th>11</th>\n",
              "      <td>sifting box</td>\n",
              "      <td>milk bone</td>\n",
              "      <td>fluffy bed</td>\n",
              "    </tr>\n",
              "    <tr>\n",
              "      <th>12</th>\n",
              "      <td>receptacle box</td>\n",
              "      <td>meaty bone</td>\n",
              "      <td>padded bed</td>\n",
              "    </tr>\n",
              "    <tr>\n",
              "      <th>13</th>\n",
              "      <td>enclosed box</td>\n",
              "      <td>bone fragment</td>\n",
              "      <td>plush bed</td>\n",
              "    </tr>\n",
              "    <tr>\n",
              "      <th>14</th>\n",
              "      <td>box cutter</td>\n",
              "      <td>synthetic bone</td>\n",
              "      <td>bed pillow</td>\n",
              "    </tr>\n",
              "    <tr>\n",
              "      <th>15</th>\n",
              "      <td>covered box</td>\n",
              "      <td>rawhide bone</td>\n",
              "      <td>foam bed</td>\n",
              "    </tr>\n",
              "    <tr>\n",
              "      <th>16</th>\n",
              "      <td>booda box</td>\n",
              "      <td>bone shaped</td>\n",
              "      <td>midwest bed</td>\n",
              "    </tr>\n",
              "    <tr>\n",
              "      <th>17</th>\n",
              "      <td>breeding box</td>\n",
              "      <td>nubby bone</td>\n",
              "      <td>sand bed</td>\n",
              "    </tr>\n",
              "    <tr>\n",
              "      <th>18</th>\n",
              "      <td>traditional box</td>\n",
              "      <td>souper bone</td>\n",
              "      <td>thicker bed</td>\n",
              "    </tr>\n",
              "    <tr>\n",
              "      <th>19</th>\n",
              "      <td>automatic box</td>\n",
              "      <td>petite bone</td>\n",
              "      <td>bed fleece</td>\n",
              "    </tr>\n",
              "    <tr>\n",
              "      <th>20</th>\n",
              "      <td>packing box</td>\n",
              "      <td>flavored bone</td>\n",
              "      <td>bed shed</td>\n",
              "    </tr>\n",
              "    <tr>\n",
              "      <th>21</th>\n",
              "      <td>outer box</td>\n",
              "      <td>artificial bone</td>\n",
              "      <td>actual bed</td>\n",
              "    </tr>\n",
              "    <tr>\n",
              "      <th>22</th>\n",
              "      <td>littermaid box</td>\n",
              "      <td>nylon bone</td>\n",
              "      <td>doggy bed</td>\n",
              "    </tr>\n",
              "    <tr>\n",
              "      <th>23</th>\n",
              "      <td>entire box</td>\n",
              "      <td>chewy bone</td>\n",
              "      <td>doggie bed</td>\n",
              "    </tr>\n",
              "    <tr>\n",
              "      <th>24</th>\n",
              "      <td>sound box</td>\n",
              "      <td>bacon bone</td>\n",
              "      <td>death bed</td>\n",
              "    </tr>\n",
              "  </tbody>\n",
              "</table>\n",
              "</div>"
            ],
            "text/plain": [
              "            box_pmi         bone_pmi         bed_pmi\n",
              "0         voice box      cuttle bone     kuranda bed\n",
              "1       littler box        nyla bone  orthopedic bed\n",
              "2        litter box      marrow bone      flower bed\n",
              "3       nesting box      goodie bone     bolster bed\n",
              "4     uncovered box   bone repairing      cuddly bed\n",
              "5         liter box     galileo bone      fleece bed\n",
              "6        hooded box   flexichew bone       comfy bed\n",
              "7         music box     knuckle bone      travel bed\n",
              "8          nest box    durachew bone        cozy bed\n",
              "9   rectangular box      chilly bone       bed sheet\n",
              "10    cardboard box      edible bone         pet bed\n",
              "11      sifting box        milk bone      fluffy bed\n",
              "12   receptacle box       meaty bone      padded bed\n",
              "13     enclosed box    bone fragment       plush bed\n",
              "14       box cutter   synthetic bone      bed pillow\n",
              "15      covered box     rawhide bone        foam bed\n",
              "16        booda box      bone shaped     midwest bed\n",
              "17     breeding box       nubby bone        sand bed\n",
              "18  traditional box      souper bone     thicker bed\n",
              "19    automatic box      petite bone      bed fleece\n",
              "20      packing box    flavored bone        bed shed\n",
              "21        outer box  artificial bone      actual bed\n",
              "22   littermaid box       nylon bone       doggy bed\n",
              "23       entire box       chewy bone      doggie bed\n",
              "24        sound box       bacon bone       death bed"
            ]
          },
          "metadata": {},
          "execution_count": 74
        }
      ]
    },
    {
      "cell_type": "markdown",
      "metadata": {
        "id": "KgeYqibnlAIu"
      },
      "source": [
        "#### Биграммы для биграмм"
      ]
    },
    {
      "cell_type": "markdown",
      "metadata": {
        "id": "psHZ52LaqRyL"
      },
      "source": [
        "Тут совсем мало записей, поэтому просто выведем все, которые выглядят как левый сосед + NE."
      ]
    },
    {
      "cell_type": "code",
      "metadata": {
        "id": "8ALjZ_YUouzT",
        "colab": {
          "base_uri": "https://localhost:8080/"
        },
        "outputId": "c49a975c-e3b2-4f95-e6fa-07412379afc7"
      },
      "source": [
        "for supply in supplies[2]:\n",
        "    supply_trigr = []\n",
        "    print('------')\n",
        "    print(supply)\n",
        "    print('------')\n",
        "    for column in df_trigrams.columns:\n",
        "        if column.startswith(supply):\n",
        "            for trigr in df_trigrams[column].tolist():\n",
        "                if not trigr.startswith(supply):\n",
        "                    supply_trigr.append(trigr)\n",
        "    supply_trigr = set(supply_trigr)\n",
        "    for s in supply_trigr:\n",
        "        print(s)"
      ],
      "execution_count": 111,
      "outputs": [
        {
          "output_type": "stream",
          "name": "stdout",
          "text": [
            "------\n",
            "food container\n",
            "------\n",
            "fish food container\n",
            "cat food container\n",
            "dog food container\n",
            "pet food container\n",
            "the food container\n",
            "------\n",
            "cat bed\n",
            "------\n",
            "the cat bed\n",
            "small cat bed\n",
            "a cat bed\n",
            "this cat bed\n",
            "other cat bed\n",
            "nice cat bed\n",
            "------\n",
            "litter box\n",
            "------\n",
            "uncovered litter box\n",
            "a litter box\n",
            "the litter box\n",
            "sifting litter box\n",
            "enclosed litter box\n",
            "dome litter box\n",
            "automatic litter box\n",
            "their litter box\n",
            "this litter box\n",
            "hooded litter box\n",
            "regular litter box\n",
            "cat litter box\n",
            "covered litter box\n"
          ]
        }
      ]
    }
  ]
}
